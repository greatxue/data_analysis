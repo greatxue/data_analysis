{
 "cells": [
  {
   "cell_type": "markdown",
   "id": "67802a85",
   "metadata": {},
   "source": [
    "## 导入必要的安装包"
   ]
  },
  {
   "cell_type": "code",
   "execution_count": 1,
   "id": "a36e8973",
   "metadata": {},
   "outputs": [],
   "source": [
    "import pandas as pd\n",
    "import numpy as np\n",
    "import tushare as ts\n",
    "import os \n",
    "from tqdm import tqdm\n",
    "import glob\n",
    "ts.set_token('0948b6427e46bb1bc7fa60b52df96ab0080b9d4ff80209a5fee99277')\n",
    "debug = False\n",
    "from datetime import datetime \n",
    "import tensorflow as tf\n",
    "pro = ts.pro_api()"
   ]
  },
  {
   "cell_type": "code",
   "execution_count": 2,
   "id": "1b33ee40",
   "metadata": {},
   "outputs": [],
   "source": [
    "# !pip install openpyxl"
   ]
  },
  {
   "cell_type": "markdown",
   "id": "1b0f2d42",
   "metadata": {},
   "source": [
    "## 生成Alpha因子的基础函数"
   ]
  },
  {
   "cell_type": "code",
   "execution_count": 3,
   "id": "6ac5fb5a",
   "metadata": {},
   "outputs": [],
   "source": [
    "def ts_sum(df, window=10):\n",
    "    return df.rolling(window).sum()\n",
    "\n",
    "def sma(df, window=10):\n",
    "    return df.rolling(window).mean()\n",
    "\n",
    "def ts_min(df, window=10):\n",
    "    return df.rolling(window).min()\n",
    "\n",
    "def ts_median(df, window=10):\n",
    "    return df.rolling(window).median()\n",
    "\n",
    "def ts_max(df, window=10):\n",
    "    return df.rolling(window).max()\n",
    "\n",
    "def delta(df, period=1):\n",
    "    return df.diff(period)\n",
    "\n",
    "def delay(df, period=1):\n",
    "    return df.shift(period)\n",
    "\n",
    "def rank(df):\n",
    "    return df.rank(axis=1, pct=True)\n",
    "\n",
    "def ts_argmax(df, window=10):\n",
    "    return df.rolling(window).apply(np.argmax) + 1 \n"
   ]
  },
  {
   "cell_type": "markdown",
   "id": "9f0b7603",
   "metadata": {},
   "source": [
    "## 一系列Alpha因子"
   ]
  },
  {
   "cell_type": "code",
   "execution_count": 4,
   "id": "8c88da8b",
   "metadata": {},
   "outputs": [],
   "source": [
    "\n",
    "class AlphaLib(object):\n",
    "    def __init__(self, daily_info):\n",
    "        self.open = daily_info['open']\n",
    "        self.high = daily_info['high']\n",
    "        self.low = daily_info['low']\n",
    "        self.close = daily_info['close']\n",
    "        self.vwap = daily_info['vwap'] \n",
    "        self.volume = daily_info['volume'] \n",
    "        self.amount = daily_info['amount']\n",
    "\n",
    "    def calcu_alpha(self):\n",
    "        alpha_dict={}\n",
    "        alpha_dict['alpha01']=((self.close/sma(self.close,10)-1)*self.amount).div(self.amount.sum(1),axis=0)\n",
    "        alpha_dict['alpha02']=sma(self.amount,5).div(self.amount.sum(1),axis=0)\n",
    "        alpha_dict['alpha06']=sma((self.close/sma(self.close, 5)-1)*self.amount,5).div(self.amount.sum(1),axis=0)\n",
    "        alpha_dict['alpha07']=ts_max((self.close/sma(self.close, 15)-1)*self.amount,15).div(self.amount.sum(1),axis=0)\n",
    "        alpha_dict['alpha08']=ts_min((self.close/ts_max(self.close, 60)-1)*self.amount,10).div(self.amount.sum(1),axis=0)\n",
    "        alpha_dict['alpha09']=ts_max((self.close/ts_min(self.close, 60)-1)*self.amount,50).div(self.amount.sum(1),axis=0)\n",
    "        alpha_dict['alpha10']=ts_max((self.close/ts_min(self.close, 20)-1)*self.amount,15).div(self.amount.sum(1),axis=0)\n",
    "        alpha_dict['alpha12']=ts_max((ts_max(self.high,30)/ts_min(self.low, 30)-1)*self.amount,20).div(self.amount.sum(1),axis=0)\n",
    "        alpha_dict['alpha13']=ts_max(self.high-self.low, 30)/ts_min(self.close+self.open, 30)\n",
    "        alpha_dict['alpha14']=ts_sum(self.amount*(self.close-self.open), 5)\n",
    "        alpha_dict['alpha15']=ts_max(self.amount*(self.high-self.low), 15)\n",
    "        alpha_dict['alpha16']=ts_sum(self.amount*(self.close-self.vwap), 5)\n",
    "        alpha_dict['alpha17']=ts_min(self.amount*(self.low-self.vwap), 15)\n",
    "        alpha_dict['alpha18']=ts_min(self.amount*(self.open-self.vwap), 15)\n",
    "        alpha_dict['alpha19']=ts_min(self.amount*(self.open-self.low), 10)\n",
    "        alpha_dict['alpha20']=ts_max(self.amount*(self.close-self.low), 10)\n",
    "        alpha_dict['alpha21']=ts_median(self.amount,15)/ts_sum(self.amount,15)\n",
    "        alpha_dict['alpha23']=ts_max(self.amount,15)/ts_min(self.amount,10)\n",
    "        alpha_dict['alpha24']=ts_sum(self.amount.div(self.amount.sum(1),axis=0),5)\n",
    "        alpha_dict['alpha28']=(ts_max(self.close,5)/delay(self.close,5))*ts_min(self.close,5)/self.close\n",
    "      \n",
    "        tmp2=abs((self.close-self.open)/(self.high-self.low+0.01))\n",
    "        alpha_dict['alpha29']=ts_max(tmp2,6)/ts_min(tmp2,6)\n",
    "        alpha_dict['alpha30']=tmp2/delay(tmp2,4)\n",
    "\n",
    "        tmp3=abs((self.low-self.open)/(self.close-self.low+0.01))\n",
    "        alpha_dict['alpha31']=ts_max(tmp3,4)/ts_min(tmp3,4)\n",
    "\n",
    "        tmp4=abs((self.high-self.open)/(self.close-self.low+0.01))\n",
    "        alpha_dict['alpha32']=ts_max(tmp4,2)/ts_min(tmp4,2)\n",
    "        \n",
    "        alpha_dict['alpha_w_005'] = (rank((self.open - (ts_sum(self.vwap, 10) / 10))) * (-1 * abs(rank((self.close - self.vwap)))))\n",
    "    \n",
    "        return alpha_dict\n",
    "        "
   ]
  },
  {
   "cell_type": "markdown",
   "id": "1d76265a",
   "metadata": {},
   "source": [
    "## 生成训练集"
   ]
  },
  {
   "cell_type": "code",
   "execution_count": 5,
   "id": "17a5dd18",
   "metadata": {},
   "outputs": [],
   "source": [
    "import pandas as pd\n",
    "price_PD_total = pd.read_csv('./data/price_PD.csv', dtype = {'trade_date': 'str'})\n",
    "price_PD_total = price_PD_total.drop_duplicates(['ts_code', 'trade_date']).sort_values(['ts_code', 'trade_date']).reset_index(drop=True)\n",
    "all_stock = pro.stock_basic()\n",
    "all_stock = all_stock[['ts_code','name','market']]\n",
    "price_PD_total = pd.merge(price_PD_total,all_stock,how='left',on='ts_code')\n",
    "price_PD_total = price_PD_total[['ts_code', 'name','market', 'trade_date', 'open', 'high', 'low', 'close', 'pre_close',\n",
    "       'change', 'pct_chg', 'vol', 'amount']]\n",
    "\n"
   ]
  },
  {
   "cell_type": "code",
   "execution_count": 6,
   "id": "3181bb13",
   "metadata": {},
   "outputs": [
    {
     "data": {
      "text/html": [
       "<div>\n",
       "<style scoped>\n",
       "    .dataframe tbody tr th:only-of-type {\n",
       "        vertical-align: middle;\n",
       "    }\n",
       "\n",
       "    .dataframe tbody tr th {\n",
       "        vertical-align: top;\n",
       "    }\n",
       "\n",
       "    .dataframe thead th {\n",
       "        text-align: right;\n",
       "    }\n",
       "</style>\n",
       "<table border=\"1\" class=\"dataframe\">\n",
       "  <thead>\n",
       "    <tr style=\"text-align: right;\">\n",
       "      <th></th>\n",
       "      <th>ts_code</th>\n",
       "      <th>indus1</th>\n",
       "      <th>indus2</th>\n",
       "      <th>indus3</th>\n",
       "    </tr>\n",
       "  </thead>\n",
       "  <tbody>\n",
       "    <tr>\n",
       "      <th>0</th>\n",
       "      <td>000001.SZ</td>\n",
       "      <td>银行</td>\n",
       "      <td>银行Ⅱ</td>\n",
       "      <td>银行Ⅲ</td>\n",
       "    </tr>\n",
       "    <tr>\n",
       "      <th>1</th>\n",
       "      <td>000002.SZ</td>\n",
       "      <td>房地产</td>\n",
       "      <td>房地产开发Ⅱ</td>\n",
       "      <td>房地产开发Ⅲ</td>\n",
       "    </tr>\n",
       "    <tr>\n",
       "      <th>2</th>\n",
       "      <td>000004.SZ</td>\n",
       "      <td>计算机</td>\n",
       "      <td>计算机应用</td>\n",
       "      <td>IT服务</td>\n",
       "    </tr>\n",
       "    <tr>\n",
       "      <th>3</th>\n",
       "      <td>000005.SZ</td>\n",
       "      <td>公用事业</td>\n",
       "      <td>环保工程及服务Ⅱ</td>\n",
       "      <td>环保工程及服务Ⅲ</td>\n",
       "    </tr>\n",
       "    <tr>\n",
       "      <th>4</th>\n",
       "      <td>000006.SZ</td>\n",
       "      <td>房地产</td>\n",
       "      <td>房地产开发Ⅱ</td>\n",
       "      <td>房地产开发Ⅲ</td>\n",
       "    </tr>\n",
       "  </tbody>\n",
       "</table>\n",
       "</div>"
      ],
      "text/plain": [
       "     ts_code indus1    indus2    indus3\n",
       "0  000001.SZ     银行       银行Ⅱ       银行Ⅲ\n",
       "1  000002.SZ    房地产    房地产开发Ⅱ    房地产开发Ⅲ\n",
       "2  000004.SZ    计算机     计算机应用      IT服务\n",
       "3  000005.SZ   公用事业  环保工程及服务Ⅱ  环保工程及服务Ⅲ\n",
       "4  000006.SZ    房地产    房地产开发Ⅱ    房地产开发Ⅲ"
      ]
     },
     "execution_count": 6,
     "metadata": {},
     "output_type": "execute_result"
    }
   ],
   "source": [
    "indus = pd.read_csv('./data/a_stock_industry.csv',encoding='gbk')\n",
    "indus = indus[['windcode','申万行业L1','申万行业L2','申万行业L3']]\n",
    "indus.columns = ['ts_code','indus1','indus2','indus3']\n",
    "indus.head()"
   ]
  },
  {
   "cell_type": "code",
   "execution_count": 7,
   "id": "2163901d",
   "metadata": {},
   "outputs": [
    {
     "data": {
      "text/html": [
       "<div>\n",
       "<style scoped>\n",
       "    .dataframe tbody tr th:only-of-type {\n",
       "        vertical-align: middle;\n",
       "    }\n",
       "\n",
       "    .dataframe tbody tr th {\n",
       "        vertical-align: top;\n",
       "    }\n",
       "\n",
       "    .dataframe thead th {\n",
       "        text-align: right;\n",
       "    }\n",
       "</style>\n",
       "<table border=\"1\" class=\"dataframe\">\n",
       "  <thead>\n",
       "    <tr style=\"text-align: right;\">\n",
       "      <th></th>\n",
       "      <th>ts_code</th>\n",
       "      <th>name</th>\n",
       "      <th>market</th>\n",
       "      <th>trade_date</th>\n",
       "      <th>open</th>\n",
       "      <th>high</th>\n",
       "      <th>low</th>\n",
       "      <th>close</th>\n",
       "      <th>pre_close</th>\n",
       "      <th>change</th>\n",
       "      <th>pct_chg</th>\n",
       "      <th>vol</th>\n",
       "      <th>amount</th>\n",
       "      <th>indus1</th>\n",
       "      <th>indus2</th>\n",
       "      <th>indus3</th>\n",
       "    </tr>\n",
       "  </thead>\n",
       "  <tbody>\n",
       "    <tr>\n",
       "      <th>0</th>\n",
       "      <td>000001.SZ</td>\n",
       "      <td>平安银行</td>\n",
       "      <td>主板</td>\n",
       "      <td>20150105</td>\n",
       "      <td>10.1514</td>\n",
       "      <td>10.3355</td>\n",
       "      <td>9.9038</td>\n",
       "      <td>10.1704</td>\n",
       "      <td>10.0562</td>\n",
       "      <td>0.1142</td>\n",
       "      <td>1.1356</td>\n",
       "      <td>2860436.43</td>\n",
       "      <td>4.565388e+06</td>\n",
       "      <td>银行</td>\n",
       "      <td>银行Ⅱ</td>\n",
       "      <td>银行Ⅲ</td>\n",
       "    </tr>\n",
       "    <tr>\n",
       "      <th>1</th>\n",
       "      <td>000001.SZ</td>\n",
       "      <td>平安银行</td>\n",
       "      <td>主板</td>\n",
       "      <td>20150106</td>\n",
       "      <td>10.0625</td>\n",
       "      <td>10.4053</td>\n",
       "      <td>9.8720</td>\n",
       "      <td>10.0181</td>\n",
       "      <td>10.1704</td>\n",
       "      <td>-0.1523</td>\n",
       "      <td>-1.4975</td>\n",
       "      <td>2166421.40</td>\n",
       "      <td>3.453446e+06</td>\n",
       "      <td>银行</td>\n",
       "      <td>银行Ⅱ</td>\n",
       "      <td>银行Ⅲ</td>\n",
       "    </tr>\n",
       "    <tr>\n",
       "      <th>2</th>\n",
       "      <td>000001.SZ</td>\n",
       "      <td>平安银行</td>\n",
       "      <td>主板</td>\n",
       "      <td>20150107</td>\n",
       "      <td>9.8784</td>\n",
       "      <td>10.0498</td>\n",
       "      <td>9.7133</td>\n",
       "      <td>9.8276</td>\n",
       "      <td>10.0181</td>\n",
       "      <td>-0.1905</td>\n",
       "      <td>-1.9016</td>\n",
       "      <td>1700120.67</td>\n",
       "      <td>2.634796e+06</td>\n",
       "      <td>银行</td>\n",
       "      <td>银行Ⅱ</td>\n",
       "      <td>银行Ⅲ</td>\n",
       "    </tr>\n",
       "    <tr>\n",
       "      <th>3</th>\n",
       "      <td>000001.SZ</td>\n",
       "      <td>平安银行</td>\n",
       "      <td>主板</td>\n",
       "      <td>20150108</td>\n",
       "      <td>9.8403</td>\n",
       "      <td>9.8847</td>\n",
       "      <td>9.4594</td>\n",
       "      <td>9.4975</td>\n",
       "      <td>9.8276</td>\n",
       "      <td>-0.3301</td>\n",
       "      <td>-3.3589</td>\n",
       "      <td>1407714.21</td>\n",
       "      <td>2.128003e+06</td>\n",
       "      <td>银行</td>\n",
       "      <td>银行Ⅱ</td>\n",
       "      <td>银行Ⅲ</td>\n",
       "    </tr>\n",
       "    <tr>\n",
       "      <th>4</th>\n",
       "      <td>000001.SZ</td>\n",
       "      <td>平安银行</td>\n",
       "      <td>主板</td>\n",
       "      <td>20150109</td>\n",
       "      <td>9.4594</td>\n",
       "      <td>10.0752</td>\n",
       "      <td>9.3388</td>\n",
       "      <td>9.5737</td>\n",
       "      <td>9.4975</td>\n",
       "      <td>0.0762</td>\n",
       "      <td>0.8023</td>\n",
       "      <td>2508500.23</td>\n",
       "      <td>3.835378e+06</td>\n",
       "      <td>银行</td>\n",
       "      <td>银行Ⅱ</td>\n",
       "      <td>银行Ⅲ</td>\n",
       "    </tr>\n",
       "  </tbody>\n",
       "</table>\n",
       "</div>"
      ],
      "text/plain": [
       "     ts_code  name market trade_date     open     high     low    close  \\\n",
       "0  000001.SZ  平安银行     主板   20150105  10.1514  10.3355  9.9038  10.1704   \n",
       "1  000001.SZ  平安银行     主板   20150106  10.0625  10.4053  9.8720  10.0181   \n",
       "2  000001.SZ  平安银行     主板   20150107   9.8784  10.0498  9.7133   9.8276   \n",
       "3  000001.SZ  平安银行     主板   20150108   9.8403   9.8847  9.4594   9.4975   \n",
       "4  000001.SZ  平安银行     主板   20150109   9.4594  10.0752  9.3388   9.5737   \n",
       "\n",
       "   pre_close  change  pct_chg         vol        amount indus1 indus2 indus3  \n",
       "0    10.0562  0.1142   1.1356  2860436.43  4.565388e+06     银行    银行Ⅱ    银行Ⅲ  \n",
       "1    10.1704 -0.1523  -1.4975  2166421.40  3.453446e+06     银行    银行Ⅱ    银行Ⅲ  \n",
       "2    10.0181 -0.1905  -1.9016  1700120.67  2.634796e+06     银行    银行Ⅱ    银行Ⅲ  \n",
       "3     9.8276 -0.3301  -3.3589  1407714.21  2.128003e+06     银行    银行Ⅱ    银行Ⅲ  \n",
       "4     9.4975  0.0762   0.8023  2508500.23  3.835378e+06     银行    银行Ⅱ    银行Ⅲ  "
      ]
     },
     "execution_count": 7,
     "metadata": {},
     "output_type": "execute_result"
    }
   ],
   "source": [
    "##拼接行业，只保留主板、中小板、创业板，去除ST股票\n",
    "price_PD_total = pd.merge(price_PD_total,indus,how='left',on='ts_code')\n",
    "price_PD_total = price_PD_total[price_PD_total.market.isin(['主板','中小板','创业板'])]\n",
    "price_PD_total = price_PD_total[~price_PD_total.name.str.contains('ST')].reset_index(drop=True)\n",
    "price_PD_total.head()"
   ]
  },
  {
   "cell_type": "code",
   "execution_count": 8,
   "id": "27da6520",
   "metadata": {},
   "outputs": [],
   "source": [
    "##计算开盘涨幅\n",
    "price_PD_total['open_up'] = price_PD_total.groupby('ts_code').open.shift(1)/price_PD_total.groupby('ts_code').close.shift(0)"
   ]
  },
  {
   "cell_type": "code",
   "execution_count": 9,
   "id": "c4ec9bc3",
   "metadata": {},
   "outputs": [],
   "source": [
    "#t收盘买 t+1收盘卖\n",
    "price_PD_total['ret1'] = price_PD_total.groupby('ts_code').close.shift(-1)/price_PD_total.groupby('ts_code').close.shift(0) \n",
    "#t+1开盘买 t+2收盘卖\n",
    "price_PD_total['ret2'] = price_PD_total.groupby('ts_code').close.shift(-2)/price_PD_total.groupby('ts_code').open.shift(-1) \n",
    "#t+1开盘买 t+2开盘卖\n",
    "# price_PD_total['ret3'] = price_PD_total.groupby('ts_code').open.shift(-3)/price_PD_total.groupby('ts_code').open.shift(-1) \n",
    "# #t+1开盘买 t+3收盘卖\n",
    "# price_PD_total['ret4'] = price_PD_total.groupby('ts_code').close.shift(-3)/price_PD_total.groupby('ts_code').open.shift(-1)\n",
    "# #t+1开盘买 t+4收盘卖\n",
    "# price_PD_total['ret5'] = price_PD_total.groupby('ts_code').close.shift(-4)/price_PD_total.groupby('ts_code').open.shift(-1)\n",
    "\n",
    "price_PD_total['ret'] = price_PD_total['ret2'].copy()\n",
    "\n"
   ]
  },
  {
   "cell_type": "code",
   "execution_count": 10,
   "id": "3432e2ea",
   "metadata": {},
   "outputs": [
    {
     "data": {
      "text/html": [
       "<div>\n",
       "<style scoped>\n",
       "    .dataframe tbody tr th:only-of-type {\n",
       "        vertical-align: middle;\n",
       "    }\n",
       "\n",
       "    .dataframe tbody tr th {\n",
       "        vertical-align: top;\n",
       "    }\n",
       "\n",
       "    .dataframe thead th {\n",
       "        text-align: right;\n",
       "    }\n",
       "</style>\n",
       "<table border=\"1\" class=\"dataframe\">\n",
       "  <thead>\n",
       "    <tr style=\"text-align: right;\">\n",
       "      <th></th>\n",
       "      <th>ts_code</th>\n",
       "      <th>trade_date</th>\n",
       "      <th>open</th>\n",
       "      <th>high</th>\n",
       "      <th>low</th>\n",
       "      <th>close</th>\n",
       "      <th>pre_close</th>\n",
       "      <th>change</th>\n",
       "      <th>pct_chg</th>\n",
       "      <th>vol</th>\n",
       "      <th>amount</th>\n",
       "      <th>vwap</th>\n",
       "    </tr>\n",
       "  </thead>\n",
       "  <tbody>\n",
       "    <tr>\n",
       "      <th>6220326</th>\n",
       "      <td>605599.SH</td>\n",
       "      <td>20220909</td>\n",
       "      <td>10.09</td>\n",
       "      <td>10.22</td>\n",
       "      <td>9.22</td>\n",
       "      <td>10.02</td>\n",
       "      <td>10.22</td>\n",
       "      <td>-0.20</td>\n",
       "      <td>-1.9569</td>\n",
       "      <td>58236.31</td>\n",
       "      <td>57322.643</td>\n",
       "      <td>0.984311</td>\n",
       "    </tr>\n",
       "    <tr>\n",
       "      <th>6220327</th>\n",
       "      <td>605599.SH</td>\n",
       "      <td>20220913</td>\n",
       "      <td>9.79</td>\n",
       "      <td>10.08</td>\n",
       "      <td>9.79</td>\n",
       "      <td>9.98</td>\n",
       "      <td>10.02</td>\n",
       "      <td>-0.04</td>\n",
       "      <td>-0.3992</td>\n",
       "      <td>31553.39</td>\n",
       "      <td>31488.568</td>\n",
       "      <td>0.997946</td>\n",
       "    </tr>\n",
       "    <tr>\n",
       "      <th>6220328</th>\n",
       "      <td>605599.SH</td>\n",
       "      <td>20220914</td>\n",
       "      <td>9.90</td>\n",
       "      <td>9.92</td>\n",
       "      <td>9.77</td>\n",
       "      <td>9.85</td>\n",
       "      <td>9.98</td>\n",
       "      <td>-0.13</td>\n",
       "      <td>-1.3026</td>\n",
       "      <td>18402.20</td>\n",
       "      <td>18093.121</td>\n",
       "      <td>0.983204</td>\n",
       "    </tr>\n",
       "    <tr>\n",
       "      <th>6220329</th>\n",
       "      <td>605599.SH</td>\n",
       "      <td>20220915</td>\n",
       "      <td>9.89</td>\n",
       "      <td>9.89</td>\n",
       "      <td>9.61</td>\n",
       "      <td>9.69</td>\n",
       "      <td>9.85</td>\n",
       "      <td>-0.16</td>\n",
       "      <td>-1.6244</td>\n",
       "      <td>14409.77</td>\n",
       "      <td>14020.617</td>\n",
       "      <td>0.972994</td>\n",
       "    </tr>\n",
       "    <tr>\n",
       "      <th>6220330</th>\n",
       "      <td>605599.SH</td>\n",
       "      <td>20220916</td>\n",
       "      <td>9.64</td>\n",
       "      <td>9.70</td>\n",
       "      <td>9.38</td>\n",
       "      <td>9.41</td>\n",
       "      <td>9.69</td>\n",
       "      <td>-0.28</td>\n",
       "      <td>-2.8896</td>\n",
       "      <td>14882.43</td>\n",
       "      <td>14157.309</td>\n",
       "      <td>0.951277</td>\n",
       "    </tr>\n",
       "  </tbody>\n",
       "</table>\n",
       "</div>"
      ],
      "text/plain": [
       "           ts_code trade_date   open   high   low  close  pre_close  change  \\\n",
       "6220326  605599.SH   20220909  10.09  10.22  9.22  10.02      10.22   -0.20   \n",
       "6220327  605599.SH   20220913   9.79  10.08  9.79   9.98      10.02   -0.04   \n",
       "6220328  605599.SH   20220914   9.90   9.92  9.77   9.85       9.98   -0.13   \n",
       "6220329  605599.SH   20220915   9.89   9.89  9.61   9.69       9.85   -0.16   \n",
       "6220330  605599.SH   20220916   9.64   9.70  9.38   9.41       9.69   -0.28   \n",
       "\n",
       "         pct_chg       vol     amount      vwap  \n",
       "6220326  -1.9569  58236.31  57322.643  0.984311  \n",
       "6220327  -0.3992  31553.39  31488.568  0.997946  \n",
       "6220328  -1.3026  18402.20  18093.121  0.983204  \n",
       "6220329  -1.6244  14409.77  14020.617  0.972994  \n",
       "6220330  -2.8896  14882.43  14157.309  0.951277  "
      ]
     },
     "execution_count": 10,
     "metadata": {},
     "output_type": "execute_result"
    }
   ],
   "source": [
    "price_PD_wfq = pd.read_csv('./data/price_PD_2015至今_未复权.csv')\n",
    "price_PD_wfq.trade_date = price_PD_wfq.trade_date.astype('str')\n",
    "price_PD_wfq = price_PD_wfq.drop_duplicates(['ts_code', 'trade_date']).sort_values(['ts_code', 'trade_date']).reset_index(drop=True)\n",
    "price_PD_wfq['vwap'] = price_PD_wfq.amount/price_PD_wfq.vol\n",
    "price_PD_wfq = price_PD_wfq[price_PD_wfq.ts_code.isin(price_PD_total.ts_code.unique())]\n",
    "price_PD_wfq.tail()"
   ]
  },
  {
   "cell_type": "code",
   "execution_count": 11,
   "id": "fee735f7",
   "metadata": {},
   "outputs": [],
   "source": [
    "daily_info = {}\n",
    "daily_info['open'] = price_PD_wfq.pivot('trade_date', 'ts_code', 'open')\n",
    "daily_info['close'] = price_PD_wfq.pivot('trade_date', 'ts_code', 'close')\n",
    "daily_info['high']  = price_PD_wfq.pivot('trade_date', 'ts_code', 'high')\n",
    "daily_info['low']  = price_PD_wfq.pivot('trade_date', 'ts_code', 'low')\n",
    "daily_info['amount']  = price_PD_wfq.pivot('trade_date', 'ts_code', 'amount')\n",
    "daily_info['volume']  = price_PD_wfq.pivot('trade_date', 'ts_code', 'vol')\n",
    "daily_info['vwap']  = (daily_info['amount']*1000)/(daily_info['volume']*100+1) \n",
    "\n"
   ]
  },
  {
   "cell_type": "code",
   "execution_count": 12,
   "id": "bc84ebd9",
   "metadata": {},
   "outputs": [],
   "source": [
    "del price_PD_wfq"
   ]
  },
  {
   "cell_type": "code",
   "execution_count": 13,
   "id": "a968c67c",
   "metadata": {},
   "outputs": [],
   "source": [
    "tmp_class = AlphaLib(daily_info)\n",
    "alpha_dict = tmp_class.calcu_alpha()"
   ]
  },
  {
   "cell_type": "code",
   "execution_count": 14,
   "id": "0250811f",
   "metadata": {},
   "outputs": [
    {
     "name": "stderr",
     "output_type": "stream",
     "text": [
      "100%|██████████| 25/25 [02:54<00:00,  6.99s/it]\n"
     ]
    }
   ],
   "source": [
    "data = pd.DataFrame()\n",
    "for k, v in tqdm(alpha_dict.items()):\n",
    "    tmp = v.unstack().reset_index().rename(columns={0:k})\n",
    "    if len(data) == 0:\n",
    "        data = tmp\n",
    "    else:\n",
    "        data = pd.merge(data, tmp, how='left', on=['ts_code', 'trade_date'])"
   ]
  },
  {
   "cell_type": "code",
   "execution_count": 15,
   "id": "bdb76672",
   "metadata": {},
   "outputs": [],
   "source": [
    "data = pd.merge(data, price_PD_total[['trade_date', 'ts_code','name', 'ret1', 'ret2', \\\n",
    "                                    'ret','open_up']], how='left', on=['trade_date', 'ts_code'])"
   ]
  },
  {
   "cell_type": "code",
   "execution_count": 16,
   "id": "f3734dde",
   "metadata": {},
   "outputs": [
    {
     "data": {
      "text/plain": [
       "Index(['ts_code', 'name', 'market', 'trade_date', 'open', 'high', 'low',\n",
       "       'close', 'pre_close', 'change', 'pct_chg', 'vol', 'amount', 'indus1',\n",
       "       'indus2', 'indus3', 'open_up', 'ret1', 'ret2', 'ret'],\n",
       "      dtype='object')"
      ]
     },
     "execution_count": 16,
     "metadata": {},
     "output_type": "execute_result"
    }
   ],
   "source": [
    "price_PD_total.columns"
   ]
  },
  {
   "cell_type": "code",
   "execution_count": 17,
   "id": "62ac96df",
   "metadata": {},
   "outputs": [],
   "source": [
    "del price_PD_total"
   ]
  },
  {
   "cell_type": "code",
   "execution_count": 18,
   "id": "a7d6c907",
   "metadata": {},
   "outputs": [
    {
     "data": {
      "text/plain": [
       "[[array([      0,       1,       2, ..., 3625332, 3625333, 3625334]),\n",
       "  array([     12,      13,      19, ..., 3625324, 3625327, 3625330])],\n",
       " [array([      3,       4,       6, ..., 3625331, 3625332, 3625333]),\n",
       "  array([      0,       1,       2, ..., 3625316, 3625328, 3625334])],\n",
       " [array([      0,       1,       2, ..., 3625331, 3625333, 3625334]),\n",
       "  array([      3,      18,      23, ..., 3625326, 3625329, 3625332])],\n",
       " [array([      0,       1,       2, ..., 3625331, 3625332, 3625334]),\n",
       "  array([      6,      10,      14, ..., 3625322, 3625325, 3625333])],\n",
       " [array([      0,       1,       2, ..., 3625332, 3625333, 3625334]),\n",
       "  array([      4,       8,      15, ..., 3625310, 3625313, 3625331])]]"
      ]
     },
     "execution_count": 18,
     "metadata": {},
     "output_type": "execute_result"
    }
   ],
   "source": [
    "train = data.copy()\n",
    "train = train[train.trade_date < '20200401']#.dropna()\n",
    "\n",
    "train['ret_rank'] = train.groupby('trade_date').ret.rank(pct=True)\n",
    "train = train[~train.ret_rank.isna()].reset_index(drop=True)\n",
    "\n",
    "from sklearn.model_selection import KFold,GroupKFold,train_test_split\n",
    "\n",
    "kfold = KFold(n_splits = 5, shuffle = True, random_state = 42)\n",
    "\n",
    "enumsplit = []\n",
    "for fold, (trn_ind, val_ind) in enumerate(kfold.split(train)):\n",
    "#     enumsplit.append([trn_ind[int(0.025*len(trn_ind)):int(0.975*len(trn_ind))], val_ind])   ##避免泄露\n",
    "    enumsplit.append([trn_ind, val_ind])  ##数据存在一点点泄露\n",
    "enumsplit"
   ]
  },
  {
   "cell_type": "code",
   "execution_count": 19,
   "id": "6e0f2827",
   "metadata": {},
   "outputs": [
    {
     "data": {
      "text/plain": [
       "Index(['ts_code', 'trade_date', 'alpha01', 'alpha02', 'alpha06', 'alpha07',\n",
       "       'alpha08', 'alpha09', 'alpha10', 'alpha12', 'alpha13', 'alpha14',\n",
       "       'alpha15', 'alpha16', 'alpha17', 'alpha18', 'alpha19', 'alpha20',\n",
       "       'alpha21', 'alpha23', 'alpha24', 'alpha28', 'alpha29', 'alpha30',\n",
       "       'alpha31', 'alpha32', 'alpha_w_005', 'name', 'ret1', 'ret2', 'ret',\n",
       "       'open_up', 'ret_rank'],\n",
       "      dtype='object')"
      ]
     },
     "execution_count": 19,
     "metadata": {},
     "output_type": "execute_result"
    }
   ],
   "source": [
    "train.columns"
   ]
  },
  {
   "cell_type": "code",
   "execution_count": 20,
   "id": "632bef9e",
   "metadata": {},
   "outputs": [],
   "source": [
    "features = ['alpha01', 'alpha02', 'alpha06', 'alpha07',\n",
    "       'alpha08', 'alpha09', 'alpha10', 'alpha12', 'alpha13', 'alpha14',\n",
    "       'alpha15', 'alpha16', 'alpha17', 'alpha18', 'alpha19', 'alpha20',\n",
    "       'alpha21', 'alpha23', 'alpha24', 'alpha28', 'alpha29', 'alpha30',\n",
    "       'alpha31', 'alpha32', 'alpha_w_005']\n"
   ]
  },
  {
   "cell_type": "code",
   "execution_count": 22,
   "id": "58c34c27",
   "metadata": {},
   "outputs": [],
   "source": [
    "import tensorflow as tf\n",
    "from tensorflow import keras\n",
    "from tensorflow.keras import layers\n",
    "from tensorflow.keras.callbacks import ReduceLROnPlateau\n",
    "from tensorflow.python.ops import math_ops\n",
    "from tensorflow.python.keras import backend as K\n",
    "from tensorflow.keras import Model\n",
    "from tensorflow.keras.layers import Input, Dense, GRU, BatchNormalization, Reshape\n",
    "from tensorflow.keras.metrics import MeanSquaredError\n",
    "from tensorflow.keras.optimizers import Adam\n",
    "from tensorflow.keras.callbacks import EarlyStopping, ReduceLROnPlateau, ModelCheckpoint\n",
    "from tensorflow.keras.optimizers.schedules import ExponentialDecay\n",
    "\n",
    "feat_dim = len(features)"
   ]
  },
  {
   "cell_type": "code",
   "execution_count": 26,
   "id": "e290243e",
   "metadata": {},
   "outputs": [],
   "source": [
    "# Initialize model\n",
    "def base_model():\n",
    "    inp = Input(shape = (feat_dim, ), name = \"input_layer\")\n",
    "    x = Dense(256, activation = \"swish\")(inp)\n",
    "    x = Dense(256, activation = \"swish\")(x)\n",
    "    x = Dense(256, activation = \"swish\")(x)\n",
    "    x = BatchNormalization()(x)\n",
    "    x = Reshape((1, -1))(x)\n",
    "    x = GRU(128, recurrent_dropout = 0.2, dropout = 0.2, return_sequences = True)(x)\n",
    "    x = GRU(128, recurrent_dropout = 0.1, dropout = 0.1, return_sequences = True)(x)\n",
    "    x = GRU(128, recurrent_dropout = 0.1, dropout = 0.1, return_sequences = False)(x)\n",
    "    x = Dense(16, activation = \"swish\")(x)\n",
    "    x = Dense(16, activation = \"swish\")(x)\n",
    "    x = Dense(16, activation = \"swish\")(x)\n",
    "    out = Dense(1, name = \"output_layer\")(x)\n",
    "\n",
    "    model = Model(inp, out)\n",
    "    model.compile(\n",
    "        optimizer=tf.optimizers.Adam(1e-3),\n",
    "        loss='mse',\n",
    "        metrics=[keras.metrics.RootMeanSquaredError()]\n",
    "    )\n",
    "    return model"
   ]
  },
  {
   "cell_type": "code",
   "execution_count": 27,
   "id": "3f462c85",
   "metadata": {},
   "outputs": [
    {
     "name": "stdout",
     "output_type": "stream",
     "text": [
      "Model: \"model\"\n",
      "_________________________________________________________________\n",
      "Layer (type)                 Output Shape              Param #   \n",
      "=================================================================\n",
      "input_layer (InputLayer)     [(None, 25)]              0         \n",
      "_________________________________________________________________\n",
      "dense (Dense)                (None, 256)               6656      \n",
      "_________________________________________________________________\n",
      "dense_1 (Dense)              (None, 256)               65792     \n",
      "_________________________________________________________________\n",
      "dense_2 (Dense)              (None, 256)               65792     \n",
      "_________________________________________________________________\n",
      "batch_normalization (BatchNo (None, 256)               1024      \n",
      "_________________________________________________________________\n",
      "reshape (Reshape)            (None, 1, 256)            0         \n",
      "_________________________________________________________________\n",
      "gru (GRU)                    (None, 1, 128)            148224    \n",
      "_________________________________________________________________\n",
      "gru_1 (GRU)                  (None, 1, 128)            99072     \n",
      "_________________________________________________________________\n",
      "gru_2 (GRU)                  (None, 128)               99072     \n",
      "_________________________________________________________________\n",
      "dense_3 (Dense)              (None, 16)                2064      \n",
      "_________________________________________________________________\n",
      "dense_4 (Dense)              (None, 16)                272       \n",
      "_________________________________________________________________\n",
      "dense_5 (Dense)              (None, 16)                272       \n",
      "_________________________________________________________________\n",
      "output_layer (Dense)         (None, 1)                 17        \n",
      "=================================================================\n",
      "Total params: 488,257\n",
      "Trainable params: 487,745\n",
      "Non-trainable params: 512\n",
      "_________________________________________________________________\n"
     ]
    }
   ],
   "source": [
    "model = base_model()\n",
    "model.summary()"
   ]
  },
  {
   "cell_type": "markdown",
   "id": "18369282",
   "metadata": {},
   "source": [
    "## 模型训练"
   ]
  },
  {
   "cell_type": "code",
   "execution_count": 28,
   "id": "b53af7bb",
   "metadata": {},
   "outputs": [],
   "source": [
    "train.replace([np.inf, -np.inf], np.nan,inplace=True)\n",
    "train[features] = train[features].fillna(train[features].mean())\n"
   ]
  },
  {
   "cell_type": "code",
   "execution_count": null,
   "id": "2806c9b9",
   "metadata": {},
   "outputs": [],
   "source": []
  },
  {
   "cell_type": "code",
   "execution_count": 29,
   "id": "a284df5c",
   "metadata": {},
   "outputs": [],
   "source": [
    "es = tf.keras.callbacks.EarlyStopping(\n",
    "    monitor='val_loss', patience=10, verbose=0,\n",
    "    mode='min',restore_best_weights=True)\n",
    "\n",
    "plateau = tf.keras.callbacks.ReduceLROnPlateau(\n",
    "    monitor='val_loss', factor=0.2, patience=7, verbose=0,\n",
    "    mode='min')"
   ]
  },
  {
   "cell_type": "code",
   "execution_count": 30,
   "id": "5c3d35ee",
   "metadata": {},
   "outputs": [],
   "source": [
    "# from sklearn.preprocessing import QuantileTransformer\n",
    "\n",
    "# train_nn=train[features].copy()\n",
    "# test_nn=test[features].copy()\n",
    "# qt_train = []\n",
    "# for col in features:\n",
    "#     qt = QuantileTransformer(random_state=21,n_quantiles=2000, output_distribution='normal')\n",
    "#     train_nn[col] = qt.fit_transform(train_nn[[col]])\n",
    "#     test_nn[col] = qt.transform(test_nn[[col]])\n",
    "#     qt_train.append(qt)"
   ]
  },
  {
   "cell_type": "code",
   "execution_count": 32,
   "id": "ea8bed80",
   "metadata": {},
   "outputs": [
    {
     "name": "stdout",
     "output_type": "stream",
     "text": [
      "Training fold 1\n",
      "Epoch 1/1000\n",
      "1417/1417 [==============================] - 79s 51ms/step - loss: 0.0854 - root_mean_squared_error: 0.2921 - val_loss: 0.0831 - val_root_mean_squared_error: 0.2883\n",
      "Epoch 2/1000\n",
      "1417/1417 [==============================] - 75s 53ms/step - loss: 0.0832 - root_mean_squared_error: 0.2885 - val_loss: 0.0830 - val_root_mean_squared_error: 0.2882\n",
      "Epoch 3/1000\n",
      "1417/1417 [==============================] - 77s 54ms/step - loss: 0.0832 - root_mean_squared_error: 0.2885 - val_loss: 0.0831 - val_root_mean_squared_error: 0.2883\n",
      "Epoch 4/1000\n",
      "1417/1417 [==============================] - 77s 55ms/step - loss: 0.0832 - root_mean_squared_error: 0.2884 - val_loss: 0.0831 - val_root_mean_squared_error: 0.2883\n",
      "Epoch 5/1000\n",
      "1417/1417 [==============================] - 78s 55ms/step - loss: 0.0832 - root_mean_squared_error: 0.2884 - val_loss: 0.0831 - val_root_mean_squared_error: 0.2882\n",
      "Epoch 6/1000\n",
      "1417/1417 [==============================] - 77s 54ms/step - loss: 0.0832 - root_mean_squared_error: 0.2884 - val_loss: 0.0831 - val_root_mean_squared_error: 0.2882\n",
      "Epoch 7/1000\n",
      "1417/1417 [==============================] - 77s 55ms/step - loss: 0.0832 - root_mean_squared_error: 0.2884 - val_loss: 0.0830 - val_root_mean_squared_error: 0.2881\n",
      "Epoch 8/1000\n",
      "1417/1417 [==============================] - 76s 54ms/step - loss: 0.0832 - root_mean_squared_error: 0.2884 - val_loss: 0.0830 - val_root_mean_squared_error: 0.2882\n",
      "Epoch 9/1000\n",
      " 381/1417 [=======>......................] - ETA: 52s - loss: 0.0832 - root_mean_squared_error: 0.2884"
     ]
    },
    {
     "ename": "KeyboardInterrupt",
     "evalue": "",
     "output_type": "error",
     "traceback": [
      "\u001b[0;31m---------------------------------------------------------------------------\u001b[0m",
      "\u001b[0;31mKeyboardInterrupt\u001b[0m                         Traceback (most recent call last)",
      "\u001b[0;32m<ipython-input-32-57abffcbe8ad>\u001b[0m in \u001b[0;36m<module>\u001b[0;34m\u001b[0m\n\u001b[1;32m     23\u001b[0m               \u001b[0mvalidation_batch_size\u001b[0m\u001b[0;34m=\u001b[0m\u001b[0mlen\u001b[0m\u001b[0;34m(\u001b[0m\u001b[0my_val\u001b[0m\u001b[0;34m)\u001b[0m\u001b[0;34m,\u001b[0m\u001b[0;34m\u001b[0m\u001b[0;34m\u001b[0m\u001b[0m\n\u001b[1;32m     24\u001b[0m               \u001b[0mshuffle\u001b[0m\u001b[0;34m=\u001b[0m\u001b[0;32mTrue\u001b[0m\u001b[0;34m,\u001b[0m\u001b[0;34m\u001b[0m\u001b[0;34m\u001b[0m\u001b[0m\n\u001b[0;32m---> 25\u001b[0;31m               verbose = 1)\n\u001b[0m\u001b[1;32m     26\u001b[0m \u001b[0;34m\u001b[0m\u001b[0m\n\u001b[1;32m     27\u001b[0m \u001b[0;34m\u001b[0m\u001b[0m\n",
      "\u001b[0;32m/usr/local/lib/python3.6/dist-packages/keras/engine/training.py\u001b[0m in \u001b[0;36mfit\u001b[0;34m(self, x, y, batch_size, epochs, verbose, callbacks, validation_split, validation_data, shuffle, class_weight, sample_weight, initial_epoch, steps_per_epoch, validation_steps, validation_batch_size, validation_freq, max_queue_size, workers, use_multiprocessing)\u001b[0m\n\u001b[1;32m   1182\u001b[0m                 _r=1):\n\u001b[1;32m   1183\u001b[0m               \u001b[0mcallbacks\u001b[0m\u001b[0;34m.\u001b[0m\u001b[0mon_train_batch_begin\u001b[0m\u001b[0;34m(\u001b[0m\u001b[0mstep\u001b[0m\u001b[0;34m)\u001b[0m\u001b[0;34m\u001b[0m\u001b[0;34m\u001b[0m\u001b[0m\n\u001b[0;32m-> 1184\u001b[0;31m               \u001b[0mtmp_logs\u001b[0m \u001b[0;34m=\u001b[0m \u001b[0mself\u001b[0m\u001b[0;34m.\u001b[0m\u001b[0mtrain_function\u001b[0m\u001b[0;34m(\u001b[0m\u001b[0miterator\u001b[0m\u001b[0;34m)\u001b[0m\u001b[0;34m\u001b[0m\u001b[0;34m\u001b[0m\u001b[0m\n\u001b[0m\u001b[1;32m   1185\u001b[0m               \u001b[0;32mif\u001b[0m \u001b[0mdata_handler\u001b[0m\u001b[0;34m.\u001b[0m\u001b[0mshould_sync\u001b[0m\u001b[0;34m:\u001b[0m\u001b[0;34m\u001b[0m\u001b[0;34m\u001b[0m\u001b[0m\n\u001b[1;32m   1186\u001b[0m                 \u001b[0mcontext\u001b[0m\u001b[0;34m.\u001b[0m\u001b[0masync_wait\u001b[0m\u001b[0;34m(\u001b[0m\u001b[0;34m)\u001b[0m\u001b[0;34m\u001b[0m\u001b[0;34m\u001b[0m\u001b[0m\n",
      "\u001b[0;32m/usr/local/lib/python3.6/dist-packages/tensorflow/python/eager/def_function.py\u001b[0m in \u001b[0;36m__call__\u001b[0;34m(self, *args, **kwds)\u001b[0m\n\u001b[1;32m    883\u001b[0m \u001b[0;34m\u001b[0m\u001b[0m\n\u001b[1;32m    884\u001b[0m       \u001b[0;32mwith\u001b[0m \u001b[0mOptionalXlaContext\u001b[0m\u001b[0;34m(\u001b[0m\u001b[0mself\u001b[0m\u001b[0;34m.\u001b[0m\u001b[0m_jit_compile\u001b[0m\u001b[0;34m)\u001b[0m\u001b[0;34m:\u001b[0m\u001b[0;34m\u001b[0m\u001b[0;34m\u001b[0m\u001b[0m\n\u001b[0;32m--> 885\u001b[0;31m         \u001b[0mresult\u001b[0m \u001b[0;34m=\u001b[0m \u001b[0mself\u001b[0m\u001b[0;34m.\u001b[0m\u001b[0m_call\u001b[0m\u001b[0;34m(\u001b[0m\u001b[0;34m*\u001b[0m\u001b[0margs\u001b[0m\u001b[0;34m,\u001b[0m \u001b[0;34m**\u001b[0m\u001b[0mkwds\u001b[0m\u001b[0;34m)\u001b[0m\u001b[0;34m\u001b[0m\u001b[0;34m\u001b[0m\u001b[0m\n\u001b[0m\u001b[1;32m    886\u001b[0m \u001b[0;34m\u001b[0m\u001b[0m\n\u001b[1;32m    887\u001b[0m       \u001b[0mnew_tracing_count\u001b[0m \u001b[0;34m=\u001b[0m \u001b[0mself\u001b[0m\u001b[0;34m.\u001b[0m\u001b[0mexperimental_get_tracing_count\u001b[0m\u001b[0;34m(\u001b[0m\u001b[0;34m)\u001b[0m\u001b[0;34m\u001b[0m\u001b[0;34m\u001b[0m\u001b[0m\n",
      "\u001b[0;32m/usr/local/lib/python3.6/dist-packages/tensorflow/python/eager/def_function.py\u001b[0m in \u001b[0;36m_call\u001b[0;34m(self, *args, **kwds)\u001b[0m\n\u001b[1;32m    915\u001b[0m       \u001b[0;31m# In this case we have created variables on the first call, so we run the\u001b[0m\u001b[0;34m\u001b[0m\u001b[0;34m\u001b[0m\u001b[0;34m\u001b[0m\u001b[0m\n\u001b[1;32m    916\u001b[0m       \u001b[0;31m# defunned version which is guaranteed to never create variables.\u001b[0m\u001b[0;34m\u001b[0m\u001b[0;34m\u001b[0m\u001b[0;34m\u001b[0m\u001b[0m\n\u001b[0;32m--> 917\u001b[0;31m       \u001b[0;32mreturn\u001b[0m \u001b[0mself\u001b[0m\u001b[0;34m.\u001b[0m\u001b[0m_stateless_fn\u001b[0m\u001b[0;34m(\u001b[0m\u001b[0;34m*\u001b[0m\u001b[0margs\u001b[0m\u001b[0;34m,\u001b[0m \u001b[0;34m**\u001b[0m\u001b[0mkwds\u001b[0m\u001b[0;34m)\u001b[0m  \u001b[0;31m# pylint: disable=not-callable\u001b[0m\u001b[0;34m\u001b[0m\u001b[0;34m\u001b[0m\u001b[0m\n\u001b[0m\u001b[1;32m    918\u001b[0m     \u001b[0;32melif\u001b[0m \u001b[0mself\u001b[0m\u001b[0;34m.\u001b[0m\u001b[0m_stateful_fn\u001b[0m \u001b[0;32mis\u001b[0m \u001b[0;32mnot\u001b[0m \u001b[0;32mNone\u001b[0m\u001b[0;34m:\u001b[0m\u001b[0;34m\u001b[0m\u001b[0;34m\u001b[0m\u001b[0m\n\u001b[1;32m    919\u001b[0m       \u001b[0;31m# Release the lock early so that multiple threads can perform the call\u001b[0m\u001b[0;34m\u001b[0m\u001b[0;34m\u001b[0m\u001b[0;34m\u001b[0m\u001b[0m\n",
      "\u001b[0;32m/usr/local/lib/python3.6/dist-packages/tensorflow/python/eager/function.py\u001b[0m in \u001b[0;36m__call__\u001b[0;34m(self, *args, **kwargs)\u001b[0m\n\u001b[1;32m   3038\u001b[0m        filtered_flat_args) = self._maybe_define_function(args, kwargs)\n\u001b[1;32m   3039\u001b[0m     return graph_function._call_flat(\n\u001b[0;32m-> 3040\u001b[0;31m         filtered_flat_args, captured_inputs=graph_function.captured_inputs)  # pylint: disable=protected-access\n\u001b[0m\u001b[1;32m   3041\u001b[0m \u001b[0;34m\u001b[0m\u001b[0m\n\u001b[1;32m   3042\u001b[0m   \u001b[0;34m@\u001b[0m\u001b[0mproperty\u001b[0m\u001b[0;34m\u001b[0m\u001b[0;34m\u001b[0m\u001b[0m\n",
      "\u001b[0;32m/usr/local/lib/python3.6/dist-packages/tensorflow/python/eager/function.py\u001b[0m in \u001b[0;36m_call_flat\u001b[0;34m(self, args, captured_inputs, cancellation_manager)\u001b[0m\n\u001b[1;32m   1962\u001b[0m       \u001b[0;31m# No tape is watching; skip to running the function.\u001b[0m\u001b[0;34m\u001b[0m\u001b[0;34m\u001b[0m\u001b[0;34m\u001b[0m\u001b[0m\n\u001b[1;32m   1963\u001b[0m       return self._build_call_outputs(self._inference_function.call(\n\u001b[0;32m-> 1964\u001b[0;31m           ctx, args, cancellation_manager=cancellation_manager))\n\u001b[0m\u001b[1;32m   1965\u001b[0m     forward_backward = self._select_forward_and_backward_functions(\n\u001b[1;32m   1966\u001b[0m         \u001b[0margs\u001b[0m\u001b[0;34m,\u001b[0m\u001b[0;34m\u001b[0m\u001b[0;34m\u001b[0m\u001b[0m\n",
      "\u001b[0;32m/usr/local/lib/python3.6/dist-packages/tensorflow/python/eager/function.py\u001b[0m in \u001b[0;36mcall\u001b[0;34m(self, ctx, args, cancellation_manager)\u001b[0m\n\u001b[1;32m    594\u001b[0m               \u001b[0minputs\u001b[0m\u001b[0;34m=\u001b[0m\u001b[0margs\u001b[0m\u001b[0;34m,\u001b[0m\u001b[0;34m\u001b[0m\u001b[0;34m\u001b[0m\u001b[0m\n\u001b[1;32m    595\u001b[0m               \u001b[0mattrs\u001b[0m\u001b[0;34m=\u001b[0m\u001b[0mattrs\u001b[0m\u001b[0;34m,\u001b[0m\u001b[0;34m\u001b[0m\u001b[0;34m\u001b[0m\u001b[0m\n\u001b[0;32m--> 596\u001b[0;31m               ctx=ctx)\n\u001b[0m\u001b[1;32m    597\u001b[0m         \u001b[0;32melse\u001b[0m\u001b[0;34m:\u001b[0m\u001b[0;34m\u001b[0m\u001b[0;34m\u001b[0m\u001b[0m\n\u001b[1;32m    598\u001b[0m           outputs = execute.execute_with_cancellation(\n",
      "\u001b[0;32m/usr/local/lib/python3.6/dist-packages/tensorflow/python/eager/execute.py\u001b[0m in \u001b[0;36mquick_execute\u001b[0;34m(op_name, num_outputs, inputs, attrs, ctx, name)\u001b[0m\n\u001b[1;32m     58\u001b[0m     \u001b[0mctx\u001b[0m\u001b[0;34m.\u001b[0m\u001b[0mensure_initialized\u001b[0m\u001b[0;34m(\u001b[0m\u001b[0;34m)\u001b[0m\u001b[0;34m\u001b[0m\u001b[0;34m\u001b[0m\u001b[0m\n\u001b[1;32m     59\u001b[0m     tensors = pywrap_tfe.TFE_Py_Execute(ctx._handle, device_name, op_name,\n\u001b[0;32m---> 60\u001b[0;31m                                         inputs, attrs, num_outputs)\n\u001b[0m\u001b[1;32m     61\u001b[0m   \u001b[0;32mexcept\u001b[0m \u001b[0mcore\u001b[0m\u001b[0;34m.\u001b[0m\u001b[0m_NotOkStatusException\u001b[0m \u001b[0;32mas\u001b[0m \u001b[0me\u001b[0m\u001b[0;34m:\u001b[0m\u001b[0;34m\u001b[0m\u001b[0;34m\u001b[0m\u001b[0m\n\u001b[1;32m     62\u001b[0m     \u001b[0;32mif\u001b[0m \u001b[0mname\u001b[0m \u001b[0;32mis\u001b[0m \u001b[0;32mnot\u001b[0m \u001b[0;32mNone\u001b[0m\u001b[0;34m:\u001b[0m\u001b[0;34m\u001b[0m\u001b[0;34m\u001b[0m\u001b[0m\n",
      "\u001b[0;31mKeyboardInterrupt\u001b[0m: "
     ]
    }
   ],
   "source": [
    "import lightgbm as lgb\n",
    "from lightgbm import LGBMRegressor\n",
    "from sklearn.metrics import mean_squared_error\n",
    "\n",
    "modellist = []\n",
    "y = train['ret_rank']\n",
    "# y = train['ret']\n",
    "\n",
    "oof_predictions = np.zeros(train.shape[0])\n",
    "\n",
    "for fold, (trn_ind, val_ind) in enumerate(enumsplit):\n",
    "    print(f'Training fold {fold + 1}')\n",
    "    x_train, x_val = train.iloc[trn_ind][features], train.iloc[val_ind][features]\n",
    "    y_train, y_val = y.iloc[trn_ind], y.iloc[val_ind]\n",
    "    \n",
    "    model = base_model()\n",
    "    model.fit(x_train,\n",
    "              y_train,               \n",
    "              batch_size=2048,\n",
    "              epochs=1000,\n",
    "              validation_data=(x_val, y_val),\n",
    "              callbacks=[es, plateau],\n",
    "              validation_batch_size=len(y_val),\n",
    "              shuffle=True,\n",
    "              verbose = 1)\n",
    "\n",
    "    \n",
    "    modellist.append(model)\n",
    "    oof_predictions[val_ind] = model.predict(x_val).reshape(1,-1)[0]\n",
    "    \n",
    "    print(f'fold RMSPE is {mean_squared_error(y_val, oof_predictions[val_ind])**0.5}')\n",
    "    corrr_score = np.corrcoef([y_val, oof_predictions[val_ind]])[0,1]\n",
    "    print(f'fold CORR is {corrr_score}')\n",
    "\n",
    "rmspe_score = mean_squared_error(y, oof_predictions)**0.5\n",
    "print(f'Our out of folds RMSPE is {rmspe_score}')\n",
    "corrr_score = np.corrcoef([y, oof_predictions])[0,1]\n",
    "print(f'Our out of folds CORR is {corrr_score}')"
   ]
  },
  {
   "cell_type": "markdown",
   "id": "44088c4c",
   "metadata": {},
   "source": [
    "## 模型预测和收益pnl"
   ]
  },
  {
   "cell_type": "code",
   "execution_count": null,
   "id": "3afccd94",
   "metadata": {},
   "outputs": [],
   "source": [
    "num = 30\n",
    "test = data.copy()\n",
    "test = test[(test.open_up<1.05)&(test.open_up>0.95)]  ##不考虑高开或者低开过多的股票\n",
    "test = test[test.trade_date > '20200401']\n",
    "\n",
    "test.replace([np.inf, -np.inf], np.nan,inplace=True)\n",
    "test[features] = test[features].fillna(train[features].mean())\n"
   ]
  },
  {
   "cell_type": "code",
   "execution_count": null,
   "id": "4e46c9bd",
   "metadata": {},
   "outputs": [],
   "source": [
    "pred = np.zeros(test.shape[0])\n",
    "for model in modellist:\n",
    "    pred += model.predict(test[features]).reshape(1,-1)[0]\n",
    "test['pred'] = pred\n",
    "date_calc = sorted(test.trade_date.unique())\n"
   ]
  },
  {
   "cell_type": "code",
   "execution_count": null,
   "id": "3affa373",
   "metadata": {},
   "outputs": [],
   "source": [
    "## 考虑t+1开盘买 t+2收盘卖的收益情况\n",
    "tmp = test.copy()\n",
    "tmp = tmp.groupby('trade_date').apply(lambda x: x.sort_values('pred', ascending = False).head(num)).reset_index(drop=True)\n",
    "ret_pd1 = pd.DataFrame(tmp.groupby('trade_date').ret2.mean() - 1.0015)\n",
    "(ret_pd1.loc['20200401':'20230101',] ).cumsum().plot(rot=45, title = '2020-2022 year')\n"
   ]
  },
  {
   "cell_type": "code",
   "execution_count": null,
   "id": "e0914de2",
   "metadata": {},
   "outputs": [],
   "source": [
    "# ## 考虑t收盘买 t+1收盘卖的收益情况\n",
    "# tmp = test.copy()\n",
    "# tmp = tmp.groupby('trade_date').apply(lambda x: x.sort_values('pred', ascending = False).head(num)).reset_index(drop=True)\n",
    "# ret_pd2 = pd.DataFrame(tmp.groupby('trade_date').ret1.mean() - 1.0015)\n",
    "# (ret_pd2.loc['20200401':'20220501',] ).cumsum().plot(rot=45, title = '2020-2022 year')\n"
   ]
  },
  {
   "cell_type": "markdown",
   "id": "f94c1a0c",
   "metadata": {},
   "source": [
    "## 计算收益相关评价指标"
   ]
  },
  {
   "cell_type": "code",
   "execution_count": null,
   "id": "57d5c5ba",
   "metadata": {},
   "outputs": [],
   "source": [
    "def max_dd(returns):\n",
    "    \"\"\"Assumes returns is a pandas Series\"\"\"\n",
    "    r = returns.cumsum()+1\n",
    "    dd = r.div(r.cummax()).sub(1)\n",
    "    mdd = dd.min()\n",
    "    end = returns.index[dd.argmin()]\n",
    "    start = returns.index[r.loc[:end].argmax()]\n",
    "    return mdd, start, end\n",
    "\n",
    "def cal_sell_turnover(tmp):\n",
    "    stock = pd.DataFrame(tmp.groupby('trade_date').apply(lambda x: set(x.ts_code))).rename(columns={0:'stock_list'})\n",
    "    stock['stock_list_shift1'] = stock.stock_list.shift(1)\n",
    "    stock = stock.dropna()\n",
    "    freq = []\n",
    "    for i in range(len(stock)):\n",
    "        freq.append(1 - len(stock.iloc[i]['stock_list'] & stock.iloc[i]['stock_list_shift1'])/len(stock.iloc[i]['stock_list']))\n",
    "    stock['freq'] = freq\n",
    "    return stock['freq'].mean()\n",
    "\n",
    "def max_dd_month(ret_PD):\n",
    "    ret2_month = ret_PD.reset_index()\n",
    "    ret2_month['month'] = [str(xx)[:6] for xx in ret2_month['trade_date']]\n",
    "    ret2_month = ret2_month.groupby('month')['ret'].sum()\n",
    "    ret2_month = ret2_month.sort_values()\n",
    "    return [ret2_month.head(1).values[0],ret2_month.head(1).index[0],\\\n",
    "            (ret2_month>0).sum()/len(ret2_month),ret2_month[ret2_month>=0].mean(),\\\n",
    "            ret2_month[ret2_month<0].mean()]\n",
    "\n",
    "def calc_pfmc(ret_PD):\n",
    "    performance = []\n",
    "    ret_PD.columns = ['ret']\n",
    "    returnlist = ret_PD['ret']\n",
    "    ret_year = (returnlist.mean())*252\n",
    "    ret_sharpe = (returnlist.mean())/returnlist.std()*((252)**0.5)\n",
    "    month_pfmc = max_dd_month(ret_PD)\n",
    "\n",
    "    winratio = (returnlist>0).sum()/(returnlist!=0).sum()\n",
    "    std = returnlist.std()\n",
    "    \n",
    "    ret2_len = pd.DataFrame(tmp.groupby('trade_date').ret.count())\n",
    "    ret2_len = ret2_len.reindex(date_calc).fillna(0)\n",
    "    stock_pct = ret2_len.mean().values[0]\n",
    "\n",
    "    turnover = cal_sell_turnover(tmp)\n",
    "    performance.append(['LGB',ret_year,ret_sharpe,std,winratio,turnover,stock_pct]+month_pfmc)\n",
    "    performance = pd.DataFrame(performance,columns = ['group_name','return','sharpe',\\\n",
    "                    'std','winratio','turnover','stock_num','mdd_month','mdd_month_No',\\\n",
    "                    'month_winratio','month_win_ret','month_lose_ret'])\n",
    "\n",
    "    return performance"
   ]
  },
  {
   "cell_type": "code",
   "execution_count": null,
   "id": "468a8f7d",
   "metadata": {},
   "outputs": [],
   "source": [
    "calc_pfmc(ret_pd1)"
   ]
  },
  {
   "cell_type": "code",
   "execution_count": null,
   "id": "5e2abcfd",
   "metadata": {},
   "outputs": [],
   "source": [
    "## 看某天的股票持仓\n",
    "tmp[tmp.trade_date=='20220908'][['ts_code','name','trade_date','pred','ret','ret1','ret2']]"
   ]
  },
  {
   "cell_type": "code",
   "execution_count": null,
   "id": "3d49f32d",
   "metadata": {},
   "outputs": [],
   "source": [
    "## 计算沪深300的收益\n",
    "df300 = pro.index_daily(ts_code='000300.SH', start_date=ret_pd1.index[0], end_date=ret_pd1.index[-1])\n",
    "df300 = df300[['trade_date','pct_chg']].set_index('trade_date').sort_index()\n",
    "df300"
   ]
  },
  {
   "cell_type": "code",
   "execution_count": null,
   "id": "b4ca2935",
   "metadata": {},
   "outputs": [],
   "source": [
    "ret_pd_concat = pd.merge(ret_pd1,df300/100,left_index=True, right_index=True)\n",
    "ret_pd_concat.columns = ['ret','df300']\n",
    "ret_pd_concat['diff'] = ret_pd_concat['ret'] - ret_pd_concat['df300']\n",
    "ret_pd_concat"
   ]
  },
  {
   "cell_type": "code",
   "execution_count": null,
   "id": "580d25a9",
   "metadata": {},
   "outputs": [],
   "source": [
    "ret_pd_concat.corr()"
   ]
  },
  {
   "cell_type": "code",
   "execution_count": null,
   "id": "0a638bb1",
   "metadata": {},
   "outputs": [],
   "source": [
    "(ret_pd_concat[['ret','df300','diff']].cumsum()).plot(rot=45, title = '2020-2022 year')\n"
   ]
  },
  {
   "cell_type": "markdown",
   "id": "5bbd0ba5",
   "metadata": {},
   "source": [
    "## 计算oof的收益情况和PNL；实际参考意义不大，因为模型会过拟合训练集"
   ]
  },
  {
   "cell_type": "code",
   "execution_count": null,
   "id": "f5620897",
   "metadata": {},
   "outputs": [],
   "source": [
    "\n",
    "train['pred'] = oof_predictions\n",
    "\n",
    "date_calc = sorted(train.trade_date.unique())\n",
    "num = 30\n",
    "tmp = train.copy()\n",
    "tmp = tmp[(tmp.open_up<1.05)&(tmp.open_up>0.95)]\n",
    "\n",
    "tmp = tmp.groupby('trade_date').apply(lambda x: x.sort_values('pred', ascending = False).head(num)).reset_index(drop=True)\n",
    "ret_pd = pd.DataFrame(tmp.groupby('trade_date').ret2.mean() - 1.0015)\n",
    "(ret_pd.loc['20100101':'20200401',] ).cumsum().plot(rot=45, title = '2010-2020 year')\n",
    "\n",
    "calc_pfmc(ret_pd)"
   ]
  },
  {
   "cell_type": "code",
   "execution_count": null,
   "id": "140227a4",
   "metadata": {},
   "outputs": [],
   "source": [
    "df300 = pro.index_daily(ts_code='000300.SH', start_date=ret_pd.index[0], end_date=ret_pd.index[-1])\n",
    "df300 = df300[['trade_date','close']].set_index('trade_date').sort_index()\n",
    "df300 = df300/df300.head(1).values\n",
    "ret_pd_concat = pd.merge(ret_pd.cumsum(),df300-1,left_index=True, right_index=True)\n",
    "ret_pd_concat.columns = ['ret','df300']\n",
    "ret_pd_concat['diff'] = ret_pd_concat[['ret']]-ret_pd_concat[['df300']].values\n",
    "(ret_pd_concat[['ret','df300','diff']]).plot(rot=45, title = '2020-2022 year')\n"
   ]
  },
  {
   "cell_type": "code",
   "execution_count": null,
   "id": "5f7d843c",
   "metadata": {},
   "outputs": [],
   "source": [
    "sss = ret_pd_concat[['ret']]- ret_pd_concat[['df300']].values\n",
    "calc_pfmc(sss.diff())\n"
   ]
  },
  {
   "cell_type": "code",
   "execution_count": null,
   "id": "ea48595e",
   "metadata": {},
   "outputs": [],
   "source": []
  },
  {
   "cell_type": "code",
   "execution_count": null,
   "id": "f50cc125",
   "metadata": {},
   "outputs": [],
   "source": []
  }
 ],
 "metadata": {
  "kernelspec": {
   "display_name": "Python 3 (ipykernel)",
   "language": "python",
   "name": "python3"
  },
  "language_info": {
   "codemirror_mode": {
    "name": "ipython",
    "version": 3
   },
   "file_extension": ".py",
   "mimetype": "text/x-python",
   "name": "python",
   "nbconvert_exporter": "python",
   "pygments_lexer": "ipython3",
   "version": "3.10.8"
  }
 },
 "nbformat": 4,
 "nbformat_minor": 5
}
