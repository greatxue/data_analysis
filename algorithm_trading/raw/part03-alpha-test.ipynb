{
 "cells": [
  {
   "cell_type": "code",
   "execution_count": 4,
   "id": "93d22b71",
   "metadata": {},
   "outputs": [],
   "source": [
    "import pandas as pd\n",
    "import numpy as np\n",
    "import tushare as ts\n",
    "import os \n",
    "from tqdm import tqdm\n",
    "import glob\n",
    "from datetime import datetime "
   ]
  },
  {
   "cell_type": "code",
   "execution_count": 5,
   "id": "9a859592",
   "metadata": {},
   "outputs": [],
   "source": [
    "import numpy as np\n",
    "import pandas as pd\n",
    "from numpy import abs\n",
    "from numpy import log\n",
    "from numpy import sign\n",
    "from scipy.stats import rankdata\n",
    "\n",
    "def ts_sum(df, window=10):\n",
    "    return df.rolling(window).sum()\n",
    "\n",
    "def sma(df, window=10):\n",
    "    return df.rolling(window).mean()\n",
    "\n",
    "def stddev(df, window=10):\n",
    "    return df.rolling(window).std()\n",
    "\n",
    "def correlation(x, y, window=10):\n",
    "    return x.rolling(window).corr(y)\n",
    "\n",
    "def covariance(x, y, window=10):\n",
    "    return x.rolling(window).cov(y)\n",
    "\n",
    "def rolling_rank(na):\n",
    "    return rankdata(na)[-1]\n",
    "\n",
    "def ts_rank(df, window=10):\n",
    "    return df.rolling(window).apply(rolling_rank)\n",
    "\n",
    "def rolling_prod(na):\n",
    "    return np.prod(na)\n",
    "\n",
    "def product(df, window=10):\n",
    "    return df.rolling(window).apply(rolling_prod)\n",
    "\n",
    "def ts_min(df, window=10):\n",
    "    return df.rolling(window).min()\n",
    "\n",
    "def ts_max(df, window=10):\n",
    "    return df.rolling(window).max()\n",
    "\n",
    "def delta(df, period=1):\n",
    "    return df.diff(period)\n",
    "\n",
    "def delay(df, period=1):\n",
    "    return df.shift(period)\n",
    "\n",
    "def rank(df):\n",
    "    return df.rank(axis=1, pct=True)\n",
    "#     return df.rank(pct=True)\n",
    "\n",
    "def scale(df, k=1):\n",
    "    return df.mul(k).div(np.abs(df).sum())\n",
    "\n",
    "def ts_argmax(df, window=10):\n",
    "    return df.rolling(window).apply(np.argmax) + 1 \n",
    "\n",
    "def ts_argmin(df, window=10):\n",
    "    return df.rolling(window).apply(np.argmin) + 1\n",
    "\n",
    "def decay_linear(df, period=10):\n",
    "    if df.isnull().values.any():\n",
    "        df.fillna(method='ffill', inplace=True)\n",
    "        df.fillna(method='bfill', inplace=True)\n",
    "        df.fillna(value=0, inplace=True)\n",
    "    na_lwma = np.zeros_like(df)\n",
    "    na_lwma[:period, :] = df.iloc[:period, :] \n",
    "    na_series = df.values\n",
    "    divisor = period * (period + 1) / 2\n",
    "    y = (np.arange(period) + 1) * 1.0 / divisor\n",
    "    for row in range(period - 1, df.shape[0]):\n",
    "        x = na_series[row - period + 1: row + 1, :]\n",
    "        na_lwma[row, :] = (np.dot(x.T, y))\n",
    "    return pd.DataFrame(na_lwma, index=df.index, columns=df.columns)  \n",
    "\n"
   ]
  },
  {
   "cell_type": "code",
   "execution_count": 6,
   "id": "0c268772",
   "metadata": {},
   "outputs": [],
   "source": [
    "import pandas as pd\n",
    "price_PD_total = pd.read_csv('../weichy7/price_PD.csv', dtype = {'trade_date': 'str'})\n",
    "price_PD_total = price_PD_total.drop_duplicates(['ts_code', 'trade_date']).sort_values(['ts_code', 'trade_date']).reset_index(drop=True)\n"
   ]
  },
  {
   "cell_type": "code",
   "execution_count": 7,
   "id": "932c8aaa",
   "metadata": {},
   "outputs": [],
   "source": [
    "import tushare as ts\n",
    "ts.set_token('0948b6427e46bb1bc7fa60b52df96ab0080b9d4ff80209a5fee99277')\n",
    "pro = ts.pro_api()\n",
    "all_stock = pro.stock_basic()"
   ]
  },
  {
   "cell_type": "code",
   "execution_count": 8,
   "id": "7e5b99de",
   "metadata": {},
   "outputs": [],
   "source": [
    "all_stock = all_stock[['ts_code','name','market']]\n",
    "price_PD_total = pd.merge(price_PD_total,all_stock,how='left',on='ts_code')\n",
    "price_PD_total = price_PD_total[['ts_code', 'name','market', 'trade_date', 'open', 'high', 'low',\n",
    "       'close', 'pre_close','change', 'pct_chg', 'vol', 'amount']]\n"
   ]
  },
  {
   "cell_type": "code",
   "execution_count": 9,
   "id": "c0b1a070",
   "metadata": {},
   "outputs": [
    {
     "data": {
      "text/html": [
       "<div>\n",
       "<style scoped>\n",
       "    .dataframe tbody tr th:only-of-type {\n",
       "        vertical-align: middle;\n",
       "    }\n",
       "\n",
       "    .dataframe tbody tr th {\n",
       "        vertical-align: top;\n",
       "    }\n",
       "\n",
       "    .dataframe thead th {\n",
       "        text-align: right;\n",
       "    }\n",
       "</style>\n",
       "<table border=\"1\" class=\"dataframe\">\n",
       "  <thead>\n",
       "    <tr style=\"text-align: right;\">\n",
       "      <th></th>\n",
       "      <th>ts_code</th>\n",
       "      <th>indus1</th>\n",
       "      <th>indus2</th>\n",
       "      <th>indus3</th>\n",
       "    </tr>\n",
       "  </thead>\n",
       "  <tbody>\n",
       "    <tr>\n",
       "      <th>0</th>\n",
       "      <td>000001.SZ</td>\n",
       "      <td>银行</td>\n",
       "      <td>银行Ⅱ</td>\n",
       "      <td>银行Ⅲ</td>\n",
       "    </tr>\n",
       "    <tr>\n",
       "      <th>1</th>\n",
       "      <td>000002.SZ</td>\n",
       "      <td>房地产</td>\n",
       "      <td>房地产开发Ⅱ</td>\n",
       "      <td>房地产开发Ⅲ</td>\n",
       "    </tr>\n",
       "    <tr>\n",
       "      <th>2</th>\n",
       "      <td>000004.SZ</td>\n",
       "      <td>计算机</td>\n",
       "      <td>计算机应用</td>\n",
       "      <td>IT服务</td>\n",
       "    </tr>\n",
       "    <tr>\n",
       "      <th>3</th>\n",
       "      <td>000005.SZ</td>\n",
       "      <td>公用事业</td>\n",
       "      <td>环保工程及服务Ⅱ</td>\n",
       "      <td>环保工程及服务Ⅲ</td>\n",
       "    </tr>\n",
       "    <tr>\n",
       "      <th>4</th>\n",
       "      <td>000006.SZ</td>\n",
       "      <td>房地产</td>\n",
       "      <td>房地产开发Ⅱ</td>\n",
       "      <td>房地产开发Ⅲ</td>\n",
       "    </tr>\n",
       "  </tbody>\n",
       "</table>\n",
       "</div>"
      ],
      "text/plain": [
       "     ts_code indus1    indus2    indus3\n",
       "0  000001.SZ     银行       银行Ⅱ       银行Ⅲ\n",
       "1  000002.SZ    房地产    房地产开发Ⅱ    房地产开发Ⅲ\n",
       "2  000004.SZ    计算机     计算机应用      IT服务\n",
       "3  000005.SZ   公用事业  环保工程及服务Ⅱ  环保工程及服务Ⅲ\n",
       "4  000006.SZ    房地产    房地产开发Ⅱ    房地产开发Ⅲ"
      ]
     },
     "execution_count": 9,
     "metadata": {},
     "output_type": "execute_result"
    }
   ],
   "source": [
    "indus = pd.read_excel('./data/a_stock_industry.xlsx')\n",
    "indus = indus[['windcode','申万行业L1','申万行业L2','申万行业L3']]\n",
    "indus.columns = ['ts_code','indus1','indus2','indus3']\n",
    "indus.head()"
   ]
  },
  {
   "cell_type": "code",
   "execution_count": 10,
   "id": "dd93027e",
   "metadata": {},
   "outputs": [],
   "source": [
    "price_PD_total = pd.merge(price_PD_total,indus,how='left',on='ts_code')"
   ]
  },
  {
   "cell_type": "code",
   "execution_count": 11,
   "id": "d17882fc",
   "metadata": {},
   "outputs": [],
   "source": [
    "price_PD_total = price_PD_total[price_PD_total.market.isin(['主板','中小板','创业板'])]\n",
    "price_PD_total = price_PD_total[~price_PD_total.name.str.contains('ST')].reset_index(drop=True)"
   ]
  },
  {
   "cell_type": "code",
   "execution_count": 12,
   "id": "8d082e0b",
   "metadata": {},
   "outputs": [],
   "source": [
    "price_PD_total['ret1'] = price_PD_total.groupby('ts_code').close.shift(-1)/price_PD_total.groupby('ts_code').close.shift(0) \n"
   ]
  },
  {
   "cell_type": "code",
   "execution_count": 13,
   "id": "bc2a67cd",
   "metadata": {},
   "outputs": [
    {
     "data": {
      "text/html": [
       "<div>\n",
       "<style scoped>\n",
       "    .dataframe tbody tr th:only-of-type {\n",
       "        vertical-align: middle;\n",
       "    }\n",
       "\n",
       "    .dataframe tbody tr th {\n",
       "        vertical-align: top;\n",
       "    }\n",
       "\n",
       "    .dataframe thead th {\n",
       "        text-align: right;\n",
       "    }\n",
       "</style>\n",
       "<table border=\"1\" class=\"dataframe\">\n",
       "  <thead>\n",
       "    <tr style=\"text-align: right;\">\n",
       "      <th></th>\n",
       "      <th>ts_code</th>\n",
       "      <th>name</th>\n",
       "      <th>market</th>\n",
       "      <th>trade_date</th>\n",
       "      <th>open</th>\n",
       "      <th>high</th>\n",
       "      <th>low</th>\n",
       "      <th>close</th>\n",
       "      <th>pre_close</th>\n",
       "      <th>change</th>\n",
       "      <th>pct_chg</th>\n",
       "      <th>vol</th>\n",
       "      <th>amount</th>\n",
       "      <th>indus1</th>\n",
       "      <th>indus2</th>\n",
       "      <th>indus3</th>\n",
       "      <th>ret1</th>\n",
       "    </tr>\n",
       "  </thead>\n",
       "  <tbody>\n",
       "    <tr>\n",
       "      <th>0</th>\n",
       "      <td>000001.SZ</td>\n",
       "      <td>平安银行</td>\n",
       "      <td>主板</td>\n",
       "      <td>20150105</td>\n",
       "      <td>10.1514</td>\n",
       "      <td>10.3355</td>\n",
       "      <td>9.9038</td>\n",
       "      <td>10.1704</td>\n",
       "      <td>10.0562</td>\n",
       "      <td>0.1142</td>\n",
       "      <td>1.1356</td>\n",
       "      <td>2860436.43</td>\n",
       "      <td>4.565388e+06</td>\n",
       "      <td>银行</td>\n",
       "      <td>银行Ⅱ</td>\n",
       "      <td>银行Ⅲ</td>\n",
       "      <td>0.985025</td>\n",
       "    </tr>\n",
       "    <tr>\n",
       "      <th>1</th>\n",
       "      <td>000001.SZ</td>\n",
       "      <td>平安银行</td>\n",
       "      <td>主板</td>\n",
       "      <td>20150106</td>\n",
       "      <td>10.0625</td>\n",
       "      <td>10.4053</td>\n",
       "      <td>9.8720</td>\n",
       "      <td>10.0181</td>\n",
       "      <td>10.1704</td>\n",
       "      <td>-0.1523</td>\n",
       "      <td>-1.4975</td>\n",
       "      <td>2166421.40</td>\n",
       "      <td>3.453446e+06</td>\n",
       "      <td>银行</td>\n",
       "      <td>银行Ⅱ</td>\n",
       "      <td>银行Ⅲ</td>\n",
       "      <td>0.980984</td>\n",
       "    </tr>\n",
       "    <tr>\n",
       "      <th>2</th>\n",
       "      <td>000001.SZ</td>\n",
       "      <td>平安银行</td>\n",
       "      <td>主板</td>\n",
       "      <td>20150107</td>\n",
       "      <td>9.8784</td>\n",
       "      <td>10.0498</td>\n",
       "      <td>9.7133</td>\n",
       "      <td>9.8276</td>\n",
       "      <td>10.0181</td>\n",
       "      <td>-0.1905</td>\n",
       "      <td>-1.9016</td>\n",
       "      <td>1700120.67</td>\n",
       "      <td>2.634796e+06</td>\n",
       "      <td>银行</td>\n",
       "      <td>银行Ⅱ</td>\n",
       "      <td>银行Ⅲ</td>\n",
       "      <td>0.966411</td>\n",
       "    </tr>\n",
       "    <tr>\n",
       "      <th>3</th>\n",
       "      <td>000001.SZ</td>\n",
       "      <td>平安银行</td>\n",
       "      <td>主板</td>\n",
       "      <td>20150108</td>\n",
       "      <td>9.8403</td>\n",
       "      <td>9.8847</td>\n",
       "      <td>9.4594</td>\n",
       "      <td>9.4975</td>\n",
       "      <td>9.8276</td>\n",
       "      <td>-0.3301</td>\n",
       "      <td>-3.3589</td>\n",
       "      <td>1407714.21</td>\n",
       "      <td>2.128003e+06</td>\n",
       "      <td>银行</td>\n",
       "      <td>银行Ⅱ</td>\n",
       "      <td>银行Ⅲ</td>\n",
       "      <td>1.008023</td>\n",
       "    </tr>\n",
       "    <tr>\n",
       "      <th>4</th>\n",
       "      <td>000001.SZ</td>\n",
       "      <td>平安银行</td>\n",
       "      <td>主板</td>\n",
       "      <td>20150109</td>\n",
       "      <td>9.4594</td>\n",
       "      <td>10.0752</td>\n",
       "      <td>9.3388</td>\n",
       "      <td>9.5737</td>\n",
       "      <td>9.4975</td>\n",
       "      <td>0.0762</td>\n",
       "      <td>0.8023</td>\n",
       "      <td>2508500.23</td>\n",
       "      <td>3.835378e+06</td>\n",
       "      <td>银行</td>\n",
       "      <td>银行Ⅱ</td>\n",
       "      <td>银行Ⅲ</td>\n",
       "      <td>0.979444</td>\n",
       "    </tr>\n",
       "  </tbody>\n",
       "</table>\n",
       "</div>"
      ],
      "text/plain": [
       "     ts_code  name market trade_date     open     high     low    close  \\\n",
       "0  000001.SZ  平安银行     主板   20150105  10.1514  10.3355  9.9038  10.1704   \n",
       "1  000001.SZ  平安银行     主板   20150106  10.0625  10.4053  9.8720  10.0181   \n",
       "2  000001.SZ  平安银行     主板   20150107   9.8784  10.0498  9.7133   9.8276   \n",
       "3  000001.SZ  平安银行     主板   20150108   9.8403   9.8847  9.4594   9.4975   \n",
       "4  000001.SZ  平安银行     主板   20150109   9.4594  10.0752  9.3388   9.5737   \n",
       "\n",
       "   pre_close  change  pct_chg         vol        amount indus1 indus2 indus3  \\\n",
       "0    10.0562  0.1142   1.1356  2860436.43  4.565388e+06     银行    银行Ⅱ    银行Ⅲ   \n",
       "1    10.1704 -0.1523  -1.4975  2166421.40  3.453446e+06     银行    银行Ⅱ    银行Ⅲ   \n",
       "2    10.0181 -0.1905  -1.9016  1700120.67  2.634796e+06     银行    银行Ⅱ    银行Ⅲ   \n",
       "3     9.8276 -0.3301  -3.3589  1407714.21  2.128003e+06     银行    银行Ⅱ    银行Ⅲ   \n",
       "4     9.4975  0.0762   0.8023  2508500.23  3.835378e+06     银行    银行Ⅱ    银行Ⅲ   \n",
       "\n",
       "       ret1  \n",
       "0  0.985025  \n",
       "1  0.980984  \n",
       "2  0.966411  \n",
       "3  1.008023  \n",
       "4  0.979444  "
      ]
     },
     "execution_count": 13,
     "metadata": {},
     "output_type": "execute_result"
    }
   ],
   "source": [
    "price_PD_total.head()"
   ]
  },
  {
   "cell_type": "code",
   "execution_count": 15,
   "id": "c1160f3b",
   "metadata": {},
   "outputs": [],
   "source": [
    "price_PD_wfq = pd.read_csv('../weichy7/price_PD_2015至今_未复权.csv')\n",
    "price_PD_wfq.trade_date = price_PD_wfq.trade_date.astype('str')\n",
    "price_PD_wfq = price_PD_wfq.drop_duplicates(['ts_code', 'trade_date']).sort_values(['ts_code', 'trade_date']).reset_index(drop=True)\n",
    "price_PD_wfq['vwap'] = price_PD_wfq.amount/price_PD_wfq.vol\n",
    "price_PD_wfq = price_PD_wfq[price_PD_wfq.ts_code.isin(price_PD_total.ts_code.unique())]\n",
    "\n"
   ]
  },
  {
   "cell_type": "code",
   "execution_count": 16,
   "id": "0fa4ec85",
   "metadata": {},
   "outputs": [],
   "source": [
    "daily_info = {}\n",
    "daily_info['open'] = price_PD_wfq.pivot('trade_date', 'ts_code', 'open')\n",
    "daily_info['close'] = price_PD_wfq.pivot('trade_date', 'ts_code', 'close')\n",
    "daily_info['high']  = price_PD_wfq.pivot('trade_date', 'ts_code', 'high')\n",
    "daily_info['low']  = price_PD_wfq.pivot('trade_date', 'ts_code', 'low')\n",
    "daily_info['vol']  = price_PD_wfq.pivot('trade_date', 'ts_code', 'vol')\n",
    "daily_info['amount']  = price_PD_wfq.pivot('trade_date', 'ts_code', 'amount')\n",
    "daily_info['vwap']  = (daily_info['amount']*1000)/(daily_info['vol']*100+1) \n",
    "\n"
   ]
  },
  {
   "cell_type": "code",
   "execution_count": 22,
   "id": "30a4d49c",
   "metadata": {},
   "outputs": [],
   "source": [
    "def fun(x):\n",
    "    if x < 0.2: return 1\n",
    "    elif 0.2 <= x < 0.4: return 2\n",
    "    elif 0.4 <= x < 0.6: return 3\n",
    "    elif 0.6 <= x < 0.8: return 4\n",
    "    elif 0.8 <= x <= 1: return 5\n",
    "    else: return np.nan\n",
    "    \n",
    "    "
   ]
  },
  {
   "cell_type": "code",
   "execution_count": 18,
   "id": "a1fb4f24",
   "metadata": {},
   "outputs": [],
   "source": [
    "class AlphaLib(object):\n",
    "    def __init__(self, daily_info):\n",
    "        self.open = daily_info['open']\n",
    "        self.high = daily_info['high']\n",
    "        self.low = daily_info['low']\n",
    "        self.close = daily_info['close']\n",
    "        self.vwap = daily_info['vwap'] \n",
    "        self.amount = daily_info['amount']\n",
    "        \n",
    "    def calcu_alpha(self):\n",
    "        alpha_dict={}\n",
    "        alpha_dict['alpha02']=sma(self.amount,5).div(self.amount.sum(1),axis=0)\n",
    "        return alpha_dict\n",
    "        "
   ]
  },
  {
   "cell_type": "code",
   "execution_count": 26,
   "id": "6aec950b",
   "metadata": {},
   "outputs": [],
   "source": [
    "tmp_class = AlphaLib(daily_info)\n",
    "alpha_dict = tmp_class.calcu_alpha()"
   ]
  },
  {
   "cell_type": "code",
   "execution_count": 27,
   "id": "106745d6",
   "metadata": {},
   "outputs": [],
   "source": [
    "alpha = alpha_dict['alpha02'].unstack().reset_index().rename(columns={0:'factor'})\n",
    "# alpha = alpha.dropna()\n"
   ]
  },
  {
   "cell_type": "code",
   "execution_count": 28,
   "id": "a777f1c3",
   "metadata": {},
   "outputs": [],
   "source": [
    "alpha = pd.merge(alpha, price_PD_total[['trade_date', \\\n",
    "        'ts_code','ret1','indus1']], how='left', on=['trade_date', 'ts_code'])"
   ]
  },
  {
   "cell_type": "code",
   "execution_count": 29,
   "id": "1d236b6a",
   "metadata": {},
   "outputs": [],
   "source": [
    "alpha['factor_rank'] = alpha.groupby(['trade_date','indus1']).factor.rank(pct=True,method='dense')\n"
   ]
  },
  {
   "cell_type": "code",
   "execution_count": 30,
   "id": "3095cd41",
   "metadata": {},
   "outputs": [
    {
     "data": {
      "text/html": [
       "<div>\n",
       "<style scoped>\n",
       "    .dataframe tbody tr th:only-of-type {\n",
       "        vertical-align: middle;\n",
       "    }\n",
       "\n",
       "    .dataframe tbody tr th {\n",
       "        vertical-align: top;\n",
       "    }\n",
       "\n",
       "    .dataframe thead th {\n",
       "        text-align: right;\n",
       "    }\n",
       "</style>\n",
       "<table border=\"1\" class=\"dataframe\">\n",
       "  <thead>\n",
       "    <tr style=\"text-align: right;\">\n",
       "      <th></th>\n",
       "      <th>ts_code</th>\n",
       "      <th>trade_date</th>\n",
       "      <th>factor</th>\n",
       "      <th>ret1</th>\n",
       "      <th>indus1</th>\n",
       "      <th>factor_rank</th>\n",
       "    </tr>\n",
       "  </thead>\n",
       "  <tbody>\n",
       "    <tr>\n",
       "      <th>0</th>\n",
       "      <td>000001.SZ</td>\n",
       "      <td>20150105</td>\n",
       "      <td>NaN</td>\n",
       "      <td>0.985025</td>\n",
       "      <td>银行</td>\n",
       "      <td>NaN</td>\n",
       "    </tr>\n",
       "    <tr>\n",
       "      <th>1</th>\n",
       "      <td>000001.SZ</td>\n",
       "      <td>20150106</td>\n",
       "      <td>NaN</td>\n",
       "      <td>0.980984</td>\n",
       "      <td>银行</td>\n",
       "      <td>NaN</td>\n",
       "    </tr>\n",
       "    <tr>\n",
       "      <th>2</th>\n",
       "      <td>000001.SZ</td>\n",
       "      <td>20150107</td>\n",
       "      <td>NaN</td>\n",
       "      <td>0.966411</td>\n",
       "      <td>银行</td>\n",
       "      <td>NaN</td>\n",
       "    </tr>\n",
       "    <tr>\n",
       "      <th>3</th>\n",
       "      <td>000001.SZ</td>\n",
       "      <td>20150108</td>\n",
       "      <td>NaN</td>\n",
       "      <td>1.008023</td>\n",
       "      <td>银行</td>\n",
       "      <td>NaN</td>\n",
       "    </tr>\n",
       "    <tr>\n",
       "      <th>4</th>\n",
       "      <td>000001.SZ</td>\n",
       "      <td>20150109</td>\n",
       "      <td>0.005132</td>\n",
       "      <td>0.979444</td>\n",
       "      <td>银行</td>\n",
       "      <td>0.375000</td>\n",
       "    </tr>\n",
       "    <tr>\n",
       "      <th>...</th>\n",
       "      <td>...</td>\n",
       "      <td>...</td>\n",
       "      <td>...</td>\n",
       "      <td>...</td>\n",
       "      <td>...</td>\n",
       "      <td>...</td>\n",
       "    </tr>\n",
       "    <tr>\n",
       "      <th>7547875</th>\n",
       "      <td>605599.SH</td>\n",
       "      <td>20220908</td>\n",
       "      <td>0.000014</td>\n",
       "      <td>0.980431</td>\n",
       "      <td>轻工制造</td>\n",
       "      <td>0.057325</td>\n",
       "    </tr>\n",
       "    <tr>\n",
       "      <th>7547876</th>\n",
       "      <td>605599.SH</td>\n",
       "      <td>20220909</td>\n",
       "      <td>0.000029</td>\n",
       "      <td>0.996008</td>\n",
       "      <td>轻工制造</td>\n",
       "      <td>0.273885</td>\n",
       "    </tr>\n",
       "    <tr>\n",
       "      <th>7547877</th>\n",
       "      <td>605599.SH</td>\n",
       "      <td>20220913</td>\n",
       "      <td>0.000036</td>\n",
       "      <td>0.986974</td>\n",
       "      <td>轻工制造</td>\n",
       "      <td>0.324841</td>\n",
       "    </tr>\n",
       "    <tr>\n",
       "      <th>7547878</th>\n",
       "      <td>605599.SH</td>\n",
       "      <td>20220914</td>\n",
       "      <td>0.000042</td>\n",
       "      <td>0.983756</td>\n",
       "      <td>轻工制造</td>\n",
       "      <td>0.350318</td>\n",
       "    </tr>\n",
       "    <tr>\n",
       "      <th>7547879</th>\n",
       "      <td>605599.SH</td>\n",
       "      <td>20220915</td>\n",
       "      <td>0.000035</td>\n",
       "      <td>NaN</td>\n",
       "      <td>轻工制造</td>\n",
       "      <td>0.350318</td>\n",
       "    </tr>\n",
       "  </tbody>\n",
       "</table>\n",
       "<p>7547880 rows × 6 columns</p>\n",
       "</div>"
      ],
      "text/plain": [
       "           ts_code trade_date    factor      ret1 indus1  factor_rank\n",
       "0        000001.SZ   20150105       NaN  0.985025     银行          NaN\n",
       "1        000001.SZ   20150106       NaN  0.980984     银行          NaN\n",
       "2        000001.SZ   20150107       NaN  0.966411     银行          NaN\n",
       "3        000001.SZ   20150108       NaN  1.008023     银行          NaN\n",
       "4        000001.SZ   20150109  0.005132  0.979444     银行     0.375000\n",
       "...            ...        ...       ...       ...    ...          ...\n",
       "7547875  605599.SH   20220908  0.000014  0.980431   轻工制造     0.057325\n",
       "7547876  605599.SH   20220909  0.000029  0.996008   轻工制造     0.273885\n",
       "7547877  605599.SH   20220913  0.000036  0.986974   轻工制造     0.324841\n",
       "7547878  605599.SH   20220914  0.000042  0.983756   轻工制造     0.350318\n",
       "7547879  605599.SH   20220915  0.000035       NaN   轻工制造     0.350318\n",
       "\n",
       "[7547880 rows x 6 columns]"
      ]
     },
     "execution_count": 30,
     "metadata": {},
     "output_type": "execute_result"
    }
   ],
   "source": [
    "alpha"
   ]
  },
  {
   "cell_type": "code",
   "execution_count": 31,
   "id": "60002c0d",
   "metadata": {},
   "outputs": [],
   "source": [
    "alpha['factor_rank_bin'] = alpha.factor_rank.apply(fun)"
   ]
  },
  {
   "cell_type": "code",
   "execution_count": 33,
   "id": "0a098ba2",
   "metadata": {},
   "outputs": [
    {
     "data": {
      "text/plain": [
       "5.0    1191328\n",
       "2.0    1159742\n",
       "4.0    1159742\n",
       "3.0    1159307\n",
       "1.0    1128724\n",
       "Name: factor_rank_bin, dtype: int64"
      ]
     },
     "execution_count": 33,
     "metadata": {},
     "output_type": "execute_result"
    }
   ],
   "source": [
    "alpha.factor_rank_bin.value_counts()"
   ]
  },
  {
   "cell_type": "code",
   "execution_count": 36,
   "id": "08b3ebde",
   "metadata": {},
   "outputs": [
    {
     "data": {
      "text/plain": [
       "<AxesSubplot:xlabel='trade_date'>"
      ]
     },
     "execution_count": 36,
     "metadata": {},
     "output_type": "execute_result"
    },
    {
     "data": {
      "image/png": "[encoded data removed]",
      "text/plain": [
       "<Figure size 432x288 with 1 Axes>"
      ]
     },
     "metadata": {
      "needs_background": "light"
     },
     "output_type": "display_data"
    }
   ],
   "source": [
    "(alpha[alpha.trade_date > '20150101'].groupby(['factor_rank_bin', \\\n",
    "        'trade_date']).ret1.mean()-1).unstack().T.cumsum().plot(rot=45)"
   ]
  },
  {
   "cell_type": "code",
   "execution_count": 41,
   "id": "a89bba03",
   "metadata": {},
   "outputs": [
    {
     "data": {
      "text/plain": [
       "<AxesSubplot:xlabel='trade_date'>"
      ]
     },
     "execution_count": 41,
     "metadata": {},
     "output_type": "execute_result"
    },
    {
     "data": {
      "image/png": "[encoded data removed]",
      "text/plain": [
       "<Figure size 432x288 with 1 Axes>"
      ]
     },
     "metadata": {
      "needs_background": "light"
     },
     "output_type": "display_data"
    }
   ],
   "source": [
    "##计算做多做空收益\n",
    "##做多factor最大的一组，做空factor最小的一组\n",
    "\n",
    "long_ret = (alpha[(alpha.factor_rank_bin == 5)].groupby('trade_date').ret1.mean()-1).cumsum()\n",
    "short_ret = (alpha[(alpha.factor_rank_bin == 1)].groupby('trade_date').ret1.mean()-1).cumsum()\n",
    "(long_ret - short_ret).plot(rot=45)"
   ]
  },
  {
   "cell_type": "code",
   "execution_count": 46,
   "id": "3f09f6e7",
   "metadata": {},
   "outputs": [],
   "source": [
    "ret_PD = (alpha.groupby(['factor_rank_bin', 'trade_date']).ret1.mean()-1.0015 ).unstack().T\n",
    "\n",
    "if ret_PD[1.0].mean()>ret_PD[5.0].mean():\n",
    "    ret_PD['diff'] = ret_PD[1.0] - ret_PD[5.0]\n",
    "else:\n",
    "    ret_PD['diff'] = ret_PD[5.0] - ret_PD[1.0]\n"
   ]
  },
  {
   "cell_type": "code",
   "execution_count": 47,
   "id": "166711f8",
   "metadata": {},
   "outputs": [
    {
     "data": {
      "text/html": [
       "<div>\n",
       "<style scoped>\n",
       "    .dataframe tbody tr th:only-of-type {\n",
       "        vertical-align: middle;\n",
       "    }\n",
       "\n",
       "    .dataframe tbody tr th {\n",
       "        vertical-align: top;\n",
       "    }\n",
       "\n",
       "    .dataframe thead th {\n",
       "        text-align: right;\n",
       "    }\n",
       "</style>\n",
       "<table border=\"1\" class=\"dataframe\">\n",
       "  <thead>\n",
       "    <tr style=\"text-align: right;\">\n",
       "      <th></th>\n",
       "      <th>group_name</th>\n",
       "      <th>return</th>\n",
       "      <th>sharpe</th>\n",
       "      <th>std</th>\n",
       "      <th>winratio</th>\n",
       "      <th>mdd</th>\n",
       "    </tr>\n",
       "  </thead>\n",
       "  <tbody>\n",
       "    <tr>\n",
       "      <th>0</th>\n",
       "      <td>1</td>\n",
       "      <td>0.202033</td>\n",
       "      <td>0.667391</td>\n",
       "      <td>0.019070</td>\n",
       "      <td>0.570582</td>\n",
       "      <td>-0.276797</td>\n",
       "    </tr>\n",
       "    <tr>\n",
       "      <th>1</th>\n",
       "      <td>2</td>\n",
       "      <td>-0.124478</td>\n",
       "      <td>-0.397390</td>\n",
       "      <td>0.019732</td>\n",
       "      <td>0.523707</td>\n",
       "      <td>-1.023917</td>\n",
       "    </tr>\n",
       "    <tr>\n",
       "      <th>2</th>\n",
       "      <td>3</td>\n",
       "      <td>-0.230663</td>\n",
       "      <td>-0.736072</td>\n",
       "      <td>0.019740</td>\n",
       "      <td>0.507004</td>\n",
       "      <td>-1.451768</td>\n",
       "    </tr>\n",
       "    <tr>\n",
       "      <th>3</th>\n",
       "      <td>4</td>\n",
       "      <td>-0.346631</td>\n",
       "      <td>-1.100037</td>\n",
       "      <td>0.019850</td>\n",
       "      <td>0.496228</td>\n",
       "      <td>-1.942496</td>\n",
       "    </tr>\n",
       "    <tr>\n",
       "      <th>4</th>\n",
       "      <td>5</td>\n",
       "      <td>-0.544555</td>\n",
       "      <td>-1.727453</td>\n",
       "      <td>0.019858</td>\n",
       "      <td>0.471983</td>\n",
       "      <td>-2.993987</td>\n",
       "    </tr>\n",
       "    <tr>\n",
       "      <th>5</th>\n",
       "      <td>diff</td>\n",
       "      <td>0.746587</td>\n",
       "      <td>6.121639</td>\n",
       "      <td>0.007683</td>\n",
       "      <td>0.681034</td>\n",
       "      <td>-0.047650</td>\n",
       "    </tr>\n",
       "  </tbody>\n",
       "</table>\n",
       "</div>"
      ],
      "text/plain": [
       "  group_name    return    sharpe       std  winratio       mdd\n",
       "0          1  0.202033  0.667391  0.019070  0.570582 -0.276797\n",
       "1          2 -0.124478 -0.397390  0.019732  0.523707 -1.023917\n",
       "2          3 -0.230663 -0.736072  0.019740  0.507004 -1.451768\n",
       "3          4 -0.346631 -1.100037  0.019850  0.496228 -1.942496\n",
       "4          5 -0.544555 -1.727453  0.019858  0.471983 -2.993987\n",
       "5       diff  0.746587  6.121639  0.007683  0.681034 -0.047650"
      ]
     },
     "execution_count": 47,
     "metadata": {},
     "output_type": "execute_result"
    }
   ],
   "source": [
    "def cal_sell_turnover(tmp):\n",
    "    stock = pd.DataFrame(tmp.groupby('trade_date').apply(lambda x: set(x.ts_code))).rename(columns={0:'stock_list'})\n",
    "    stock['stock_list_shift1'] = stock.stock_list.shift(1)\n",
    "    stock = stock.dropna()\n",
    "    freq = []\n",
    "    for i in range(len(stock)):\n",
    "        freq.append(1 - len(stock.iloc[i]['stock_list'] & stock.iloc[i]['stock_list_shift1'])/len(stock.iloc[i]['stock_list']))\n",
    "    stock['freq'] = freq\n",
    "    return stock['freq'].mean()\n",
    "\n",
    "def max_dd(returns):\n",
    "    \"\"\"Assumes returns is a pandas Series\"\"\"\n",
    "    r = returns.cumsum()+1\n",
    "    dd = r.div(r.cummax()).sub(1)\n",
    "    mdd = dd.min()\n",
    "    end = returns.index[dd.argmin()]\n",
    "    start = returns.index[r.loc[:end].argmax()]\n",
    "    return mdd, start, end\n",
    "\n",
    "\n",
    "def max_dd_month(ret_PD):\n",
    "    ret2_month = ret_PD.reset_index()\n",
    "    ret2_month['month'] = [str(xx)[:6] for xx in ret2_month['trade_date']]    \n",
    "    ret2_month = ret2_month.groupby('month')['ret'].sum()\n",
    "    ret2_month = ret2_month.sort_values()\n",
    "    return [ret2_month.head(1).values[0],ret2_month.head(1).index[0],\\\n",
    "            (ret2_month>0).sum()/len(ret2_month),ret2_month[ret2_month>=0].mean(),\\\n",
    "            ret2_month[ret2_month<0].mean()]\n",
    "\n",
    " \n",
    "\n",
    "def calc_pfmc(ret_PD):\n",
    "    performance = []\n",
    "    for i in [1,2,3,4,5,'diff']:\n",
    "        returnlist = ret_PD[i]\n",
    "        ret_year = (returnlist.mean()-0)*252\n",
    "        ret_sharpe = (returnlist.mean()-0)/returnlist.std()*(252**0.5)\n",
    "        max_draw, start, end = max_dd(returnlist)\n",
    "        winratio = (returnlist>0).sum()/len(returnlist)\n",
    "        std = returnlist.std()\n",
    "        performance.append([i,ret_year,ret_sharpe,std,winratio,max_draw])\n",
    "    performance = pd.DataFrame(performance,columns = ['group_name','return','sharpe',\\\n",
    "                    'std','winratio','mdd'])\n",
    "    return performance\n",
    "\n",
    "calc_pfmc(ret_PD)"
   ]
  },
  {
   "cell_type": "code",
   "execution_count": 58,
   "id": "7aa452a3",
   "metadata": {},
   "outputs": [],
   "source": [
    "ICvalue = alpha.groupby(['trade_date'])[['factor','ret1']].corr()['factor'].reset_index()\n",
    "ICvalue = ICvalue[ICvalue.level_1=='ret1']\n",
    "ICvalue = ICvalue[['trade_date','factor']].set_index('trade_date')"
   ]
  },
  {
   "cell_type": "code",
   "execution_count": 59,
   "id": "66f108f1",
   "metadata": {},
   "outputs": [
    {
     "data": {
      "text/plain": [
       "<AxesSubplot:xlabel='trade_date'>"
      ]
     },
     "execution_count": 59,
     "metadata": {},
     "output_type": "execute_result"
    },
    {
     "data": {
      "image/png": "[encoded data removed]",
      "text/plain": [
       "<Figure size 432x288 with 1 Axes>"
      ]
     },
     "metadata": {
      "needs_background": "light"
     },
     "output_type": "display_data"
    }
   ],
   "source": [
    "ICvalue.plot(rot=45)"
   ]
  },
  {
   "cell_type": "code",
   "execution_count": 61,
   "id": "0527d562",
   "metadata": {},
   "outputs": [
    {
     "data": {
      "text/plain": [
       "factor   -0.231962\n",
       "dtype: float64"
      ]
     },
     "execution_count": 61,
     "metadata": {},
     "output_type": "execute_result"
    }
   ],
   "source": [
    "ICvalue.mean()/ICvalue.std()"
   ]
  },
  {
   "cell_type": "code",
   "execution_count": null,
   "id": "ae020b51",
   "metadata": {},
   "outputs": [],
   "source": []
  }
 ],
 "metadata": {
  "kernelspec": {
   "display_name": "Python 3 (ipykernel)",
   "language": "python",
   "name": "python3"
  },
  "language_info": {
   "codemirror_mode": {
    "name": "ipython",
    "version": 3
   },
   "file_extension": ".py",
   "mimetype": "text/x-python",
   "name": "python",
   "nbconvert_exporter": "python",
   "pygments_lexer": "ipython3",
   "version": "3.9.13"
  }
 },
 "nbformat": 4,
 "nbformat_minor": 5
}
