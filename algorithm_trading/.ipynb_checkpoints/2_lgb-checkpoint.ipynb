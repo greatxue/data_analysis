{
 "cells": [
  {
   "cell_type": "markdown",
   "metadata": {},
   "source": [
    "# Project: Algorithm Trading Skeleton (Continued, 2)\n",
    "Author: Kevin (Zhongkai) Xue"
   ]
  },
  {
   "cell_type": "markdown",
   "metadata": {},
   "source": [
    "## 5. Stratetegies with lightBGM  "
   ]
  },
  {
   "cell_type": "code",
   "execution_count": null,
   "metadata": {},
   "outputs": [],
   "source": [
    "import pandas as pd\n",
    "import numpy as np\n",
    "import tushare as ts\n",
    "import os \n",
    "from tqdm import tqdm\n",
    "import glob\n",
    "ts.set_token('0948b6427e46bb1bc7fa60b52df96ab0080b9d4ff80209a5fee99277')\n",
    "debug = False\n",
    "from datetime import datetime \n",
    "import tensorflow as tf\n",
    "pro = ts.pro_api()"
   ]
  },
  {
   "cell_type": "code",
   "execution_count": null,
   "metadata": {},
   "outputs": [],
   "source": [
    "def ts_sum(df, window=10):\n",
    "    return df.rolling(window).sum()\n",
    "\n",
    "def sma(df, window=10):\n",
    "    return df.rolling(window).mean()\n",
    "\n",
    "def ts_min(df, window=10):\n",
    "    return df.rolling(window).min()\n",
    "\n",
    "def ts_median(df, window=10):\n",
    "    return df.rolling(window).median()\n",
    "\n",
    "def ts_max(df, window=10):\n",
    "    return df.rolling(window).max()\n",
    "\n",
    "def delta(df, period=1):\n",
    "    return df.diff(period)\n",
    "\n",
    "def delay(df, period=1):\n",
    "    return df.shift(period)\n",
    "\n",
    "def rank(df):\n",
    "    return df.rank(axis=1, pct=True)\n",
    "\n",
    "def ts_argmax(df, window=10):\n",
    "    return df.rolling(window).apply(np.argmax) + 1 \n"
   ]
  },
  {
   "cell_type": "code",
   "execution_count": null,
   "metadata": {},
   "outputs": [],
   "source": [
    "class AlphaLib(object):\n",
    "    def __init__(self, daily_info):\n",
    "        self.open = daily_info['open']\n",
    "        self.high = daily_info['high']\n",
    "        self.low = daily_info['low']\n",
    "        self.close = daily_info['close']\n",
    "        self.vwap = daily_info['vwap'] \n",
    "        self.volume = daily_info['volume'] \n",
    "        self.amount = daily_info['amount']\n",
    "\n",
    "    def calcu_alpha(self):\n",
    "        alpha_dict={}\n",
    "        alpha_dict['alpha01']=((self.close/sma(self.close,10)-1)*self.amount).div(self.amount.sum(1),axis=0)\n",
    "        alpha_dict['alpha02']=sma(self.amount,5).div(self.amount.sum(1),axis=0)\n",
    "        alpha_dict['alpha06']=sma((self.close/sma(self.close, 5)-1)*self.amount,5).div(self.amount.sum(1),axis=0)\n",
    "        alpha_dict['alpha07']=ts_max((self.close/sma(self.close, 15)-1)*self.amount,15).div(self.amount.sum(1),axis=0)\n",
    "        alpha_dict['alpha08']=ts_min((self.close/ts_max(self.close, 60)-1)*self.amount,10).div(self.amount.sum(1),axis=0)\n",
    "        alpha_dict['alpha09']=ts_max((self.close/ts_min(self.close, 60)-1)*self.amount,50).div(self.amount.sum(1),axis=0)\n",
    "        alpha_dict['alpha10']=ts_max((self.close/ts_min(self.close, 20)-1)*self.amount,15).div(self.amount.sum(1),axis=0)\n",
    "        alpha_dict['alpha12']=ts_max((ts_max(self.high,30)/ts_min(self.low, 30)-1)*self.amount,20).div(self.amount.sum(1),axis=0)\n",
    "        alpha_dict['alpha13']=ts_max(self.high-self.low, 30)/ts_min(self.close+self.open, 30)\n",
    "        alpha_dict['alpha14']=ts_sum(self.amount*(self.close-self.open), 5)\n",
    "        alpha_dict['alpha15']=ts_max(self.amount*(self.high-self.low), 15)\n",
    "        alpha_dict['alpha16']=ts_sum(self.amount*(self.close-self.vwap), 5)\n",
    "        alpha_dict['alpha17']=ts_min(self.amount*(self.low-self.vwap), 15)\n",
    "        alpha_dict['alpha18']=ts_min(self.amount*(self.open-self.vwap), 15)\n",
    "        alpha_dict['alpha19']=ts_min(self.amount*(self.open-self.low), 10)\n",
    "        alpha_dict['alpha20']=ts_max(self.amount*(self.close-self.low), 10)\n",
    "        alpha_dict['alpha21']=ts_median(self.amount,15)/ts_sum(self.amount,15)\n",
    "        alpha_dict['alpha23']=ts_max(self.amount,15)/ts_min(self.amount,10)\n",
    "        alpha_dict['alpha24']=ts_sum(self.amount.div(self.amount.sum(1),axis=0),5)\n",
    "        alpha_dict['alpha28']=(ts_max(self.close,5)/delay(self.close,5))*ts_min(self.close,5)/self.close\n",
    "      \n",
    "        tmp2=abs((self.close-self.open)/(self.high-self.low+0.01))\n",
    "        alpha_dict['alpha29']=ts_max(tmp2,6)/ts_min(tmp2,6)\n",
    "        alpha_dict['alpha30']=tmp2/delay(tmp2,4)\n",
    "\n",
    "        tmp3=abs((self.low-self.open)/(self.close-self.low+0.01))\n",
    "        alpha_dict['alpha31']=ts_max(tmp3,4)/ts_min(tmp3,4)\n",
    "\n",
    "        tmp4=abs((self.high-self.open)/(self.close-self.low+0.01))\n",
    "        alpha_dict['alpha32']=ts_max(tmp4,2)/ts_min(tmp4,2)\n",
    "        \n",
    "        alpha_dict['alpha_w_005'] = (rank((self.open - (ts_sum(self.vwap, 10) / 10))) * (-1 * abs(rank((self.close - self.vwap)))))\n",
    "    \n",
    "        return alpha_dict\n",
    "        "
   ]
  }
 ],
 "metadata": {
  "kernelspec": {
   "display_name": "Python 3 (ipykernel)",
   "language": "python",
   "name": "python3"
  },
  "language_info": {
   "codemirror_mode": {
    "name": "ipython",
    "version": 3
   },
   "file_extension": ".py",
   "mimetype": "text/x-python",
   "name": "python",
   "nbconvert_exporter": "python",
   "pygments_lexer": "ipython3",
   "version": "3.11.0"
  }
 },
 "nbformat": 4,
 "nbformat_minor": 2
}
