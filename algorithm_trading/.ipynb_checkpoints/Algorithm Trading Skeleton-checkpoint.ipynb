{
 "cells": [
  {
   "cell_type": "markdown",
   "id": "839fb93d",
   "metadata": {},
   "source": [
    "# Project: Algorithm Trading"
   ]
  },
  {
   "cell_type": "markdown",
   "id": "9a10ff2b",
   "metadata": {},
   "source": [
    "This is an experimental practical project of **algorithm trading**. In this project, we used stocks from the Shenzhen Stock Exchange (SSE) as the research subject and provided various **framework-based** operational practices for algorithmic trading. It's important to note that such attempts are quite preliminary but hold a certain level of enlightening significance."
   ]
  },
  {
   "cell_type": "code",
   "execution_count": 1,
   "id": "52c84373",
   "metadata": {},
   "outputs": [],
   "source": [
    "import pandas as pd\n",
    "import numpy as np\n",
    "import tushare as ts\n",
    "import os \n",
    "from tqdm import tqdm\n",
    "import glob\n",
    "ts.set_token('0948b6427e46bb1bc7fa60b52df96ab0080b9d4ff80209a5fee99277')\n",
    "debug = False\n",
    "from datetime import datetime \n",
    "pro = ts.pro_api()"
   ]
  },
  {
   "cell_type": "markdown",
   "id": "e7f208cb",
   "metadata": {},
   "source": [
    "## 1. Data Downloading"
   ]
  },
  {
   "cell_type": "markdown",
   "id": "0771f832",
   "metadata": {},
   "source": [
    "In this section, we download data from api offered by *tushare*. It offers comprehensive information about financial securities and economics situations. For detailed ducuments, refer to the [official website](https://tushare.pro/document/2)."
   ]
  },
  {
   "cell_type": "markdown",
   "id": "e97e3ab7",
   "metadata": {},
   "source": [
    "Here is how we could get **basic stock information**:"
   ]
  },
  {
   "cell_type": "code",
   "execution_count": 2,
   "id": "335a980a",
   "metadata": {
    "scrolled": true
   },
   "outputs": [
    {
     "data": {
      "text/html": [
       "<div>\n",
       "<style scoped>\n",
       "    .dataframe tbody tr th:only-of-type {\n",
       "        vertical-align: middle;\n",
       "    }\n",
       "\n",
       "    .dataframe tbody tr th {\n",
       "        vertical-align: top;\n",
       "    }\n",
       "\n",
       "    .dataframe thead th {\n",
       "        text-align: right;\n",
       "    }\n",
       "</style>\n",
       "<table border=\"1\" class=\"dataframe\">\n",
       "  <thead>\n",
       "    <tr style=\"text-align: right;\">\n",
       "      <th></th>\n",
       "      <th>ts_code</th>\n",
       "      <th>symbol</th>\n",
       "      <th>name</th>\n",
       "      <th>area</th>\n",
       "      <th>industry</th>\n",
       "      <th>list_date</th>\n",
       "    </tr>\n",
       "  </thead>\n",
       "  <tbody>\n",
       "    <tr>\n",
       "      <th>0</th>\n",
       "      <td>000001.SZ</td>\n",
       "      <td>000001</td>\n",
       "      <td>平安银行</td>\n",
       "      <td>深圳</td>\n",
       "      <td>银行</td>\n",
       "      <td>19910403</td>\n",
       "    </tr>\n",
       "    <tr>\n",
       "      <th>1</th>\n",
       "      <td>000002.SZ</td>\n",
       "      <td>000002</td>\n",
       "      <td>万科A</td>\n",
       "      <td>深圳</td>\n",
       "      <td>全国地产</td>\n",
       "      <td>19910129</td>\n",
       "    </tr>\n",
       "    <tr>\n",
       "      <th>2</th>\n",
       "      <td>000004.SZ</td>\n",
       "      <td>000004</td>\n",
       "      <td>国华网安</td>\n",
       "      <td>深圳</td>\n",
       "      <td>软件服务</td>\n",
       "      <td>19910114</td>\n",
       "    </tr>\n",
       "    <tr>\n",
       "      <th>3</th>\n",
       "      <td>000005.SZ</td>\n",
       "      <td>000005</td>\n",
       "      <td>ST星源</td>\n",
       "      <td>深圳</td>\n",
       "      <td>环境保护</td>\n",
       "      <td>19901210</td>\n",
       "    </tr>\n",
       "    <tr>\n",
       "      <th>4</th>\n",
       "      <td>000006.SZ</td>\n",
       "      <td>000006</td>\n",
       "      <td>深振业A</td>\n",
       "      <td>深圳</td>\n",
       "      <td>区域地产</td>\n",
       "      <td>19920427</td>\n",
       "    </tr>\n",
       "  </tbody>\n",
       "</table>\n",
       "</div>"
      ],
      "text/plain": [
       "     ts_code  symbol  name area industry list_date\n",
       "0  000001.SZ  000001  平安银行   深圳       银行  19910403\n",
       "1  000002.SZ  000002   万科A   深圳     全国地产  19910129\n",
       "2  000004.SZ  000004  国华网安   深圳     软件服务  19910114\n",
       "3  000005.SZ  000005  ST星源   深圳     环境保护  19901210\n",
       "4  000006.SZ  000006  深振业A   深圳     区域地产  19920427"
      ]
     },
     "execution_count": 2,
     "metadata": {},
     "output_type": "execute_result"
    }
   ],
   "source": [
    "trade_date = '20230808'\n",
    "stocklist = pro.stock_basic(exchange='', list_status='L', \n",
    "                            fields='ts_code,symbol,name,area,industry,list_date')\n",
    "stocklist.head()"
   ]
  },
  {
   "cell_type": "markdown",
   "id": "a9739ce3",
   "metadata": {},
   "source": [
    "Here is how we could consult **trading days** in the given range:"
   ]
  },
  {
   "cell_type": "code",
   "execution_count": 3,
   "id": "5e1d62c4",
   "metadata": {},
   "outputs": [
    {
     "data": {
      "text/html": [
       "<div>\n",
       "<style scoped>\n",
       "    .dataframe tbody tr th:only-of-type {\n",
       "        vertical-align: middle;\n",
       "    }\n",
       "\n",
       "    .dataframe tbody tr th {\n",
       "        vertical-align: top;\n",
       "    }\n",
       "\n",
       "    .dataframe thead th {\n",
       "        text-align: right;\n",
       "    }\n",
       "</style>\n",
       "<table border=\"1\" class=\"dataframe\">\n",
       "  <thead>\n",
       "    <tr style=\"text-align: right;\">\n",
       "      <th></th>\n",
       "      <th>exchange</th>\n",
       "      <th>cal_date</th>\n",
       "      <th>is_open</th>\n",
       "      <th>pretrade_date</th>\n",
       "    </tr>\n",
       "  </thead>\n",
       "  <tbody>\n",
       "    <tr>\n",
       "      <th>0</th>\n",
       "      <td>SSE</td>\n",
       "      <td>20230808</td>\n",
       "      <td>1</td>\n",
       "      <td>20230807</td>\n",
       "    </tr>\n",
       "  </tbody>\n",
       "</table>\n",
       "</div>"
      ],
      "text/plain": [
       "  exchange  cal_date  is_open pretrade_date\n",
       "0      SSE  20230808        1      20230807"
      ]
     },
     "execution_count": 3,
     "metadata": {},
     "output_type": "execute_result"
    }
   ],
   "source": [
    "trade_cal = pro.trade_cal(exchange='', start_date='20230808', end_date='20230808')\n",
    "trade_cal = trade_cal[trade_cal.is_open==1] \n",
    "trade_cal.head()"
   ]
  },
  {
   "cell_type": "markdown",
   "id": "0f490499",
   "metadata": {},
   "source": [
    "To consider dividends and splits, we should refer to both **adjusted** and **unadjusted** prices."
   ]
  },
  {
   "cell_type": "code",
   "execution_count": 4,
   "id": "04da8a2b",
   "metadata": {},
   "outputs": [
    {
     "name": "stderr",
     "output_type": "stream",
     "text": [
      "100%|███████████████████████████████████████████| 30/30 [00:06<00:00,  4.52it/s]\n"
     ]
    }
   ],
   "source": [
    "price_list = []\n",
    "for trade_date in trade_cal.cal_date:\n",
    "    daily_price = [] \n",
    "    for code in tqdm(stocklist.ts_code.head(30)):  # 'tqdm' creates a bar to show progress\n",
    "        single_price = ts.pro_bar(ts_code=code, adj=None, # unadjusted price\n",
    "                                  start_date=trade_date, \n",
    "                                  end_date=trade_date)\n",
    "    \n",
    "        daily_price.append(single_price)\n",
    "    daily_price = pd.concat(daily_price)\n",
    "    price_list.append(daily_price)\n",
    "    \n",
    "# merges data into a DataFrame\n",
    "price_list = pd.concat(price_list).reset_index(drop=True)\n",
    "\n",
    "# sorted by 'code' and 'date' and save it locally\n",
    "price_list = price_list.drop_duplicates().sort_values(['ts_code','trade_date']).reset_index(drop=True)\n",
    "price_list.to_csv(f'price_unadjusted.csv', index=False)"
   ]
  },
  {
   "cell_type": "code",
   "execution_count": 5,
   "id": "6c343ecb",
   "metadata": {},
   "outputs": [
    {
     "name": "stderr",
     "output_type": "stream",
     "text": [
      "100%|███████████████████████████████████████████| 30/30 [00:19<00:00,  1.56it/s]\n"
     ]
    }
   ],
   "source": [
    "price_list = []\n",
    "for trade_date in trade_cal.cal_date:\n",
    "    daily_price = [] \n",
    "    for code in tqdm(stocklist.ts_code.head(30)):  # 'tqdm' creates a bar to show progress\n",
    "        single_price = ts.pro_bar(ts_code=code, adj='qfq', # pre-adjusted price\n",
    "                                  start_date=trade_date, \n",
    "                                  end_date=trade_date)\n",
    "        \n",
    "        daily_price.append(single_price)\n",
    "    daily_price = pd.concat(daily_price)\n",
    "    price_list.append(daily_price)\n",
    "    \n",
    "# merge data into a DataFrame\n",
    "price_list = pd.concat(price_list).reset_index(drop=True)\n",
    "\n",
    "# sorted by 'code' and 'date' and save it locally \n",
    "price_list = price_list.drop_duplicates().sort_values(['ts_code','trade_date']).reset_index(drop=True)\n",
    "price_list.to_csv(f'price_pre_adjusted.csv', index=False)"
   ]
  },
  {
   "cell_type": "markdown",
   "id": "440071e9",
   "metadata": {},
   "source": [
    "## 2. Basic factors implementations"
   ]
  },
  {
   "cell_type": "code",
   "execution_count": 6,
   "id": "1b45d1aa",
   "metadata": {},
   "outputs": [],
   "source": [
    "import numpy as np\n",
    "import pandas as pd\n",
    "from numpy import abs\n",
    "from numpy import log\n",
    "from numpy import sign\n",
    "from scipy.stats import rankdata"
   ]
  },
  {
   "cell_type": "code",
   "execution_count": null,
   "id": "751d5f03",
   "metadata": {},
   "outputs": [],
   "source": [
    "def ts_sum(df, window=10):\n",
    "    '''return sum in a specific time period'''\n",
    "    return df.rolling(window).sum()\n",
    "\n",
    "def sma(df, window=10):\n",
    "    '''return mean value in a specific time period'''\n",
    "    return df.rolling(window).mean()\n",
    "\n",
    "def stddev(df, window=10):\n",
    "    '''return standard deviation in a specific time period'''\n",
    "    return df.rolling(window).std()\n",
    "\n",
    "def correlation(x, y, window=10):\n",
    "    '''return correlation of two variables in a specific time period'''\n",
    "    return x.rolling(window).corr(y)\n",
    "\n",
    "def covariance(x, y, window=10):\n",
    "    '''return covariance of two variables in a specific time period'''\n",
    "    return x.rolling(window).cov(y)\n",
    "\n",
    "def rolling_rank(na):\n",
    "    '''return the rank of the last item put into the array'''\n",
    "    return rankdata(na)[-1]\n",
    "\n",
    "def ts_rank(df, window=10):\n",
    "    '''return the rank of every column in the DataFrame'''\n",
    "    return df.rolling(window).apply(rolling_rank)\n",
    "\n",
    "def rolling_prod(na):\n",
    "    '''return multiplication of all the elements in an array'''\n",
    "    return np.prod(na)\n",
    "\n",
    "def product(df, window=10):\n",
    "    '''return the mulpication value of every column in a DataFrame'''\n",
    "    return df.rolling(window).apply(rolling_prod)\n",
    "\n",
    "def ts_min(df, window=10):\n",
    "    '''return the minimum value of a specific time period'''\n",
    "    return df.rolling(window).min()\n",
    "\n",
    "def ts_max(df, window=10):\n",
    "    '''return the maximum value of a specific time period'''\n",
    "    return df.rolling(window).max()\n",
    "\n",
    "def ts_median(df, window=10):\n",
    "    '''return the median value of a specific time period'''\n",
    "    return df.rolling(window).median()\n",
    "\n",
    "\n",
    "def delta(df, period=1):\n",
    "    '''return the differnce between items in the interval'''\n",
    "    return df.diff(period)\n",
    "\n",
    "def delay(df, period=1):\n",
    "    '''return the corresponding value before the interval'''\n",
    "    return df.shift(period)\n",
    "\n",
    "def rank(df):\n",
    "    '''return the percentage, hiven the rank of every row item sorted by column data'''\n",
    "    return df.rank(axis=1, pct=True)\n",
    "#   return df.rank(pct=True)\n",
    "\n",
    "def scale(df, k=1):\n",
    "    return df.mul(k).div(np.abs(df).sum())\n",
    "\n",
    "def ts_argmax(df, window=10):\n",
    "    return df.rolling(window).apply(np.argmax) + 1 \n",
    "\n",
    "def ts_argmin(df, window=10):\n",
    "    return df.rolling(window).apply(np.argmin) + 1\n",
    "\n",
    "def decay_linear(df, period=10):\n",
    "    if df.isnull().values.any():\n",
    "        df.fillna(method='ffill', inplace=True)\n",
    "        df.fillna(method='bfill', inplace=True)\n",
    "        df.fillna(value=0, inplace=True)\n",
    "    na_lwma = np.zeros_like(df)\n",
    "    na_lwma[:period, :] = df.iloc[:period, :] \n",
    "    na_series = df.values\n",
    "    divisor = period * (period + 1) / 2\n",
    "    y = (np.arange(period) + 1) * 1.0 / divisor\n",
    "    for row in range(period - 1, df.shape[0]):\n",
    "        x = na_series[row - period + 1: row + 1, :]\n",
    "        na_lwma[row, :] = (np.dot(x.T, y))\n",
    "    return pd.DataFrame(na_lwma, index=df.index, columns=df.columns) "
   ]
  },
  {
   "cell_type": "code",
   "execution_count": null,
   "id": "0b0bf0c2",
   "metadata": {},
   "outputs": [],
   "source": []
  }
 ],
 "metadata": {
  "kernelspec": {
   "display_name": "Python 3 (ipykernel)",
   "language": "python",
   "name": "python3"
  },
  "language_info": {
   "codemirror_mode": {
    "name": "ipython",
    "version": 3
   },
   "file_extension": ".py",
   "mimetype": "text/x-python",
   "name": "python",
   "nbconvert_exporter": "python",
   "pygments_lexer": "ipython3",
   "version": "3.11.0"
  }
 },
 "nbformat": 4,
 "nbformat_minor": 5
}
