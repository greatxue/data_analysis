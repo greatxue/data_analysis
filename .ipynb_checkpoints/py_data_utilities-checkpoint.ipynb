{
 "cells": [
  {
   "cell_type": "markdown",
   "id": "fd2ac291",
   "metadata": {},
   "source": [
    "# Data Analysis with Python"
   ]
  },
  {
   "cell_type": "markdown",
   "id": "29bdeebf",
   "metadata": {},
   "source": [
    "## I. Preface"
   ]
  },
  {
   "cell_type": "markdown",
   "id": "821ca2f7",
   "metadata": {},
   "source": [
    "### 1. Data Science"
   ]
  },
  {
   "cell_type": "markdown",
   "id": "43fed402",
   "metadata": {},
   "source": [
    "**Data science** comprises three distinct and overlapping areas: \n",
    "\n",
    "* The skills of a statistician who knows how to model and summarizedatasets; \n",
    "* The skills of a computer scientist who can design and use algorithms to efficiently store, process, and visualize this data; \n",
    "* The skill of a domain expertise, to formulate the right questions and to put their answers in context."
   ]
  },
  {
   "cell_type": "markdown",
   "id": "d579132d",
   "metadata": {},
   "source": [
    "### 2. Outline"
   ]
  },
  {
   "cell_type": "markdown",
   "id": "812aca82",
   "metadata": {},
   "source": [
    "This series is made up of:\n",
    "* tutorial for *Jupyter* and *IPython* use;\n",
    "* Introduction to *Numpy*;\n",
    "* Data Manipulation with *Pandas*;\n",
    "* Visualization with *Matplotlib*;\n",
    "* Introduction to *MySQL*;\n",
    "* Machine Learning and advanced use."
   ]
  },
  {
   "cell_type": "markdown",
   "id": "73adbdca",
   "metadata": {},
   "source": [
    "The note is highly based on the book: [*Python Data Science Handbook*](http://github.com/jakevdp/PythonDataScienceHandbook)."
   ]
  },
  {
   "cell_type": "markdown",
   "id": "6052b521",
   "metadata": {},
   "source": [
    "## II. Jupyter and IPython"
   ]
  },
  {
   "cell_type": "markdown",
   "id": "919c6b90",
   "metadata": {},
   "source": [
    "### 1. Introduction"
   ]
  },
  {
   "cell_type": "markdown",
   "id": "6e23b112",
   "metadata": {},
   "source": [
    "#### 1.1 Special notation and syntax"
   ]
  },
  {
   "cell_type": "markdown",
   "id": "d7b8ad29",
   "metadata": {},
   "source": [
    "**Initialization**    \n",
    "Type `ipython` on the command line, and IPython could be initialized."
   ]
  },
  {
   "cell_type": "markdown",
   "id": "a75df248",
   "metadata": {},
   "source": [
    "**Accessing Documentation with `?`**  \n",
    "Every Python object contains a reference to a string, known as a *docstring*. \n",
    "Commands include `help(len)`, `len?` to access the documentation.\n",
    "This notation works for nearly everything, even like:\n",
    "```python\n",
    "In [1]: L = [1, 2, 3]\n",
    "In [2]: L.insert?\n",
    "```\n",
    "or even the objects themselves like `L?`, `insert?`."
   ]
  },
  {
   "cell_type": "markdown",
   "id": "232c6cec",
   "metadata": {},
   "source": [
    "**Accessing Source Code with `??`**  \n",
    "Here are examples:\n",
    "```python\n",
    "In [1]: def square(a):\n",
    "            \"\"\"Return the square of a.\"\"\"\n",
    "            return a ** 2\n",
    "In [2]: square??\n",
    "```\n",
    "In the case the source is in languages other than *Python*, `??` will return results the same as `?`."
   ]
  },
  {
   "cell_type": "markdown",
   "id": "1ff8b28d",
   "metadata": {},
   "source": [
    "**Useful syntax**   \n",
    "There are also other useful syntaxes here:\n",
    "* `<TAB>` could be used to complete object contents, like `L.<TAB>`, `L.c<TAB>` or even `import co<TAB>`. \n",
    "* `*` could be used for wildcard matching, for whatever the key is at the end of the string or in the middle, like `*Warning?` and `str.*find*?`."
   ]
  },
  {
   "cell_type": "markdown",
   "id": "740636eb",
   "metadata": {},
   "source": [
    "#### 1.2 Keyboard Shortcuts"
   ]
  }
 ],
 "metadata": {
  "kernelspec": {
   "display_name": "Python 3 (ipykernel)",
   "language": "python",
   "name": "python3"
  },
  "language_info": {
   "codemirror_mode": {
    "name": "ipython",
    "version": 3
   },
   "file_extension": ".py",
   "mimetype": "text/x-python",
   "name": "python",
   "nbconvert_exporter": "python",
   "pygments_lexer": "ipython3",
   "version": "3.11.0"
  }
 },
 "nbformat": 4,
 "nbformat_minor": 5
}
